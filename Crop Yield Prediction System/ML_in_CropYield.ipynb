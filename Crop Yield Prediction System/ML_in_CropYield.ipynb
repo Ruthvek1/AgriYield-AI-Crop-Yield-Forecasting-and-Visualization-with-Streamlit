{
  "nbformat": 4,
  "nbformat_minor": 0,
  "metadata": {
    "colab": {
      "provenance": [],
      "toc_visible": true
    },
    "kernelspec": {
      "name": "python3",
      "display_name": "Python 3"
    },
    "language_info": {
      "name": "python"
    }
  },
  "cells": [
    {
      "cell_type": "code",
      "execution_count": 3,
      "metadata": {
        "id": "5WDjwXBfIaWg"
      },
      "outputs": [],
      "source": [
        "# Basic setup\n",
        "import pandas as pd\n",
        "import numpy as np\n",
        "import matplotlib.pyplot as plt\n",
        "import seaborn as sns"
      ]
    },
    {
      "cell_type": "code",
      "source": [
        "# Models\n",
        "from sklearn.linear_model import LinearRegression\n",
        "from sklearn.ensemble import RandomForestRegressor\n",
        "from sklearn.tree import DecisionTreeRegressor\n",
        "from sklearn.svm import SVR\n",
        "from sklearn.neighbors import KNeighborsRegressor"
      ],
      "metadata": {
        "id": "HeSTw-XpJAk2"
      },
      "execution_count": 4,
      "outputs": []
    },
    {
      "cell_type": "code",
      "source": [
        "# Evaluation\n",
        "from sklearn.metrics import mean_squared_error, mean_absolute_error, r2_score\n",
        "from sklearn.model_selection import train_test_split\n",
        "from sklearn.preprocessing import StandardScaler"
      ],
      "metadata": {
        "id": "93NW_QBQJEyW"
      },
      "execution_count": 5,
      "outputs": []
    },
    {
      "cell_type": "code",
      "source": [
        "# Load data\n",
        "df = pd.read_csv('/content/crop_yield.csv')\n",
        "df.head()"
      ],
      "metadata": {
        "colab": {
          "base_uri": "https://localhost:8080/",
          "height": 206
        },
        "id": "pD4wy3qrJI_h",
        "outputId": "2836ec42-a367-4775-ad24-41ad95bed0eb"
      },
      "execution_count": 6,
      "outputs": [
        {
          "output_type": "execute_result",
          "data": {
            "text/plain": [
              "           Crop  Crop_Year       Season  State     Area  Production  \\\n",
              "0      Arecanut       1997  Whole Year   Assam  73814.0       56708   \n",
              "1     Arhar/Tur       1997  Kharif       Assam   6637.0        4685   \n",
              "2   Castor seed       1997  Kharif       Assam    796.0          22   \n",
              "3      Coconut        1997  Whole Year   Assam  19656.0   126905000   \n",
              "4  Cotton(lint)       1997  Kharif       Assam   1739.0         794   \n",
              "\n",
              "   Annual_Rainfall  Fertilizer  Pesticide        Yield  \n",
              "0           2051.4  7024878.38   22882.34     0.796087  \n",
              "1           2051.4   631643.29    2057.47     0.710435  \n",
              "2           2051.4    75755.32     246.76     0.238333  \n",
              "3           2051.4  1870661.52    6093.36  5238.051739  \n",
              "4           2051.4   165500.63     539.09     0.420909  "
            ],
            "text/html": [
              "\n",
              "  <div id=\"df-f21c7717-5d2f-44a5-9446-b39e2f394aed\" class=\"colab-df-container\">\n",
              "    <div>\n",
              "<style scoped>\n",
              "    .dataframe tbody tr th:only-of-type {\n",
              "        vertical-align: middle;\n",
              "    }\n",
              "\n",
              "    .dataframe tbody tr th {\n",
              "        vertical-align: top;\n",
              "    }\n",
              "\n",
              "    .dataframe thead th {\n",
              "        text-align: right;\n",
              "    }\n",
              "</style>\n",
              "<table border=\"1\" class=\"dataframe\">\n",
              "  <thead>\n",
              "    <tr style=\"text-align: right;\">\n",
              "      <th></th>\n",
              "      <th>Crop</th>\n",
              "      <th>Crop_Year</th>\n",
              "      <th>Season</th>\n",
              "      <th>State</th>\n",
              "      <th>Area</th>\n",
              "      <th>Production</th>\n",
              "      <th>Annual_Rainfall</th>\n",
              "      <th>Fertilizer</th>\n",
              "      <th>Pesticide</th>\n",
              "      <th>Yield</th>\n",
              "    </tr>\n",
              "  </thead>\n",
              "  <tbody>\n",
              "    <tr>\n",
              "      <th>0</th>\n",
              "      <td>Arecanut</td>\n",
              "      <td>1997</td>\n",
              "      <td>Whole Year</td>\n",
              "      <td>Assam</td>\n",
              "      <td>73814.0</td>\n",
              "      <td>56708</td>\n",
              "      <td>2051.4</td>\n",
              "      <td>7024878.38</td>\n",
              "      <td>22882.34</td>\n",
              "      <td>0.796087</td>\n",
              "    </tr>\n",
              "    <tr>\n",
              "      <th>1</th>\n",
              "      <td>Arhar/Tur</td>\n",
              "      <td>1997</td>\n",
              "      <td>Kharif</td>\n",
              "      <td>Assam</td>\n",
              "      <td>6637.0</td>\n",
              "      <td>4685</td>\n",
              "      <td>2051.4</td>\n",
              "      <td>631643.29</td>\n",
              "      <td>2057.47</td>\n",
              "      <td>0.710435</td>\n",
              "    </tr>\n",
              "    <tr>\n",
              "      <th>2</th>\n",
              "      <td>Castor seed</td>\n",
              "      <td>1997</td>\n",
              "      <td>Kharif</td>\n",
              "      <td>Assam</td>\n",
              "      <td>796.0</td>\n",
              "      <td>22</td>\n",
              "      <td>2051.4</td>\n",
              "      <td>75755.32</td>\n",
              "      <td>246.76</td>\n",
              "      <td>0.238333</td>\n",
              "    </tr>\n",
              "    <tr>\n",
              "      <th>3</th>\n",
              "      <td>Coconut</td>\n",
              "      <td>1997</td>\n",
              "      <td>Whole Year</td>\n",
              "      <td>Assam</td>\n",
              "      <td>19656.0</td>\n",
              "      <td>126905000</td>\n",
              "      <td>2051.4</td>\n",
              "      <td>1870661.52</td>\n",
              "      <td>6093.36</td>\n",
              "      <td>5238.051739</td>\n",
              "    </tr>\n",
              "    <tr>\n",
              "      <th>4</th>\n",
              "      <td>Cotton(lint)</td>\n",
              "      <td>1997</td>\n",
              "      <td>Kharif</td>\n",
              "      <td>Assam</td>\n",
              "      <td>1739.0</td>\n",
              "      <td>794</td>\n",
              "      <td>2051.4</td>\n",
              "      <td>165500.63</td>\n",
              "      <td>539.09</td>\n",
              "      <td>0.420909</td>\n",
              "    </tr>\n",
              "  </tbody>\n",
              "</table>\n",
              "</div>\n",
              "    <div class=\"colab-df-buttons\">\n",
              "\n",
              "  <div class=\"colab-df-container\">\n",
              "    <button class=\"colab-df-convert\" onclick=\"convertToInteractive('df-f21c7717-5d2f-44a5-9446-b39e2f394aed')\"\n",
              "            title=\"Convert this dataframe to an interactive table.\"\n",
              "            style=\"display:none;\">\n",
              "\n",
              "  <svg xmlns=\"http://www.w3.org/2000/svg\" height=\"24px\" viewBox=\"0 -960 960 960\">\n",
              "    <path d=\"M120-120v-720h720v720H120Zm60-500h600v-160H180v160Zm220 220h160v-160H400v160Zm0 220h160v-160H400v160ZM180-400h160v-160H180v160Zm440 0h160v-160H620v160ZM180-180h160v-160H180v160Zm440 0h160v-160H620v160Z\"/>\n",
              "  </svg>\n",
              "    </button>\n",
              "\n",
              "  <style>\n",
              "    .colab-df-container {\n",
              "      display:flex;\n",
              "      gap: 12px;\n",
              "    }\n",
              "\n",
              "    .colab-df-convert {\n",
              "      background-color: #E8F0FE;\n",
              "      border: none;\n",
              "      border-radius: 50%;\n",
              "      cursor: pointer;\n",
              "      display: none;\n",
              "      fill: #1967D2;\n",
              "      height: 32px;\n",
              "      padding: 0 0 0 0;\n",
              "      width: 32px;\n",
              "    }\n",
              "\n",
              "    .colab-df-convert:hover {\n",
              "      background-color: #E2EBFA;\n",
              "      box-shadow: 0px 1px 2px rgba(60, 64, 67, 0.3), 0px 1px 3px 1px rgba(60, 64, 67, 0.15);\n",
              "      fill: #174EA6;\n",
              "    }\n",
              "\n",
              "    .colab-df-buttons div {\n",
              "      margin-bottom: 4px;\n",
              "    }\n",
              "\n",
              "    [theme=dark] .colab-df-convert {\n",
              "      background-color: #3B4455;\n",
              "      fill: #D2E3FC;\n",
              "    }\n",
              "\n",
              "    [theme=dark] .colab-df-convert:hover {\n",
              "      background-color: #434B5C;\n",
              "      box-shadow: 0px 1px 3px 1px rgba(0, 0, 0, 0.15);\n",
              "      filter: drop-shadow(0px 1px 2px rgba(0, 0, 0, 0.3));\n",
              "      fill: #FFFFFF;\n",
              "    }\n",
              "  </style>\n",
              "\n",
              "    <script>\n",
              "      const buttonEl =\n",
              "        document.querySelector('#df-f21c7717-5d2f-44a5-9446-b39e2f394aed button.colab-df-convert');\n",
              "      buttonEl.style.display =\n",
              "        google.colab.kernel.accessAllowed ? 'block' : 'none';\n",
              "\n",
              "      async function convertToInteractive(key) {\n",
              "        const element = document.querySelector('#df-f21c7717-5d2f-44a5-9446-b39e2f394aed');\n",
              "        const dataTable =\n",
              "          await google.colab.kernel.invokeFunction('convertToInteractive',\n",
              "                                                    [key], {});\n",
              "        if (!dataTable) return;\n",
              "\n",
              "        const docLinkHtml = 'Like what you see? Visit the ' +\n",
              "          '<a target=\"_blank\" href=https://colab.research.google.com/notebooks/data_table.ipynb>data table notebook</a>'\n",
              "          + ' to learn more about interactive tables.';\n",
              "        element.innerHTML = '';\n",
              "        dataTable['output_type'] = 'display_data';\n",
              "        await google.colab.output.renderOutput(dataTable, element);\n",
              "        const docLink = document.createElement('div');\n",
              "        docLink.innerHTML = docLinkHtml;\n",
              "        element.appendChild(docLink);\n",
              "      }\n",
              "    </script>\n",
              "  </div>\n",
              "\n",
              "\n",
              "    <div id=\"df-00dd8a32-2918-4e91-a90f-8b898820adb7\">\n",
              "      <button class=\"colab-df-quickchart\" onclick=\"quickchart('df-00dd8a32-2918-4e91-a90f-8b898820adb7')\"\n",
              "                title=\"Suggest charts\"\n",
              "                style=\"display:none;\">\n",
              "\n",
              "<svg xmlns=\"http://www.w3.org/2000/svg\" height=\"24px\"viewBox=\"0 0 24 24\"\n",
              "     width=\"24px\">\n",
              "    <g>\n",
              "        <path d=\"M19 3H5c-1.1 0-2 .9-2 2v14c0 1.1.9 2 2 2h14c1.1 0 2-.9 2-2V5c0-1.1-.9-2-2-2zM9 17H7v-7h2v7zm4 0h-2V7h2v10zm4 0h-2v-4h2v4z\"/>\n",
              "    </g>\n",
              "</svg>\n",
              "      </button>\n",
              "\n",
              "<style>\n",
              "  .colab-df-quickchart {\n",
              "      --bg-color: #E8F0FE;\n",
              "      --fill-color: #1967D2;\n",
              "      --hover-bg-color: #E2EBFA;\n",
              "      --hover-fill-color: #174EA6;\n",
              "      --disabled-fill-color: #AAA;\n",
              "      --disabled-bg-color: #DDD;\n",
              "  }\n",
              "\n",
              "  [theme=dark] .colab-df-quickchart {\n",
              "      --bg-color: #3B4455;\n",
              "      --fill-color: #D2E3FC;\n",
              "      --hover-bg-color: #434B5C;\n",
              "      --hover-fill-color: #FFFFFF;\n",
              "      --disabled-bg-color: #3B4455;\n",
              "      --disabled-fill-color: #666;\n",
              "  }\n",
              "\n",
              "  .colab-df-quickchart {\n",
              "    background-color: var(--bg-color);\n",
              "    border: none;\n",
              "    border-radius: 50%;\n",
              "    cursor: pointer;\n",
              "    display: none;\n",
              "    fill: var(--fill-color);\n",
              "    height: 32px;\n",
              "    padding: 0;\n",
              "    width: 32px;\n",
              "  }\n",
              "\n",
              "  .colab-df-quickchart:hover {\n",
              "    background-color: var(--hover-bg-color);\n",
              "    box-shadow: 0 1px 2px rgba(60, 64, 67, 0.3), 0 1px 3px 1px rgba(60, 64, 67, 0.15);\n",
              "    fill: var(--button-hover-fill-color);\n",
              "  }\n",
              "\n",
              "  .colab-df-quickchart-complete:disabled,\n",
              "  .colab-df-quickchart-complete:disabled:hover {\n",
              "    background-color: var(--disabled-bg-color);\n",
              "    fill: var(--disabled-fill-color);\n",
              "    box-shadow: none;\n",
              "  }\n",
              "\n",
              "  .colab-df-spinner {\n",
              "    border: 2px solid var(--fill-color);\n",
              "    border-color: transparent;\n",
              "    border-bottom-color: var(--fill-color);\n",
              "    animation:\n",
              "      spin 1s steps(1) infinite;\n",
              "  }\n",
              "\n",
              "  @keyframes spin {\n",
              "    0% {\n",
              "      border-color: transparent;\n",
              "      border-bottom-color: var(--fill-color);\n",
              "      border-left-color: var(--fill-color);\n",
              "    }\n",
              "    20% {\n",
              "      border-color: transparent;\n",
              "      border-left-color: var(--fill-color);\n",
              "      border-top-color: var(--fill-color);\n",
              "    }\n",
              "    30% {\n",
              "      border-color: transparent;\n",
              "      border-left-color: var(--fill-color);\n",
              "      border-top-color: var(--fill-color);\n",
              "      border-right-color: var(--fill-color);\n",
              "    }\n",
              "    40% {\n",
              "      border-color: transparent;\n",
              "      border-right-color: var(--fill-color);\n",
              "      border-top-color: var(--fill-color);\n",
              "    }\n",
              "    60% {\n",
              "      border-color: transparent;\n",
              "      border-right-color: var(--fill-color);\n",
              "    }\n",
              "    80% {\n",
              "      border-color: transparent;\n",
              "      border-right-color: var(--fill-color);\n",
              "      border-bottom-color: var(--fill-color);\n",
              "    }\n",
              "    90% {\n",
              "      border-color: transparent;\n",
              "      border-bottom-color: var(--fill-color);\n",
              "    }\n",
              "  }\n",
              "</style>\n",
              "\n",
              "      <script>\n",
              "        async function quickchart(key) {\n",
              "          const quickchartButtonEl =\n",
              "            document.querySelector('#' + key + ' button');\n",
              "          quickchartButtonEl.disabled = true;  // To prevent multiple clicks.\n",
              "          quickchartButtonEl.classList.add('colab-df-spinner');\n",
              "          try {\n",
              "            const charts = await google.colab.kernel.invokeFunction(\n",
              "                'suggestCharts', [key], {});\n",
              "          } catch (error) {\n",
              "            console.error('Error during call to suggestCharts:', error);\n",
              "          }\n",
              "          quickchartButtonEl.classList.remove('colab-df-spinner');\n",
              "          quickchartButtonEl.classList.add('colab-df-quickchart-complete');\n",
              "        }\n",
              "        (() => {\n",
              "          let quickchartButtonEl =\n",
              "            document.querySelector('#df-00dd8a32-2918-4e91-a90f-8b898820adb7 button');\n",
              "          quickchartButtonEl.style.display =\n",
              "            google.colab.kernel.accessAllowed ? 'block' : 'none';\n",
              "        })();\n",
              "      </script>\n",
              "    </div>\n",
              "\n",
              "    </div>\n",
              "  </div>\n"
            ],
            "application/vnd.google.colaboratory.intrinsic+json": {
              "type": "dataframe",
              "variable_name": "df",
              "summary": "{\n  \"name\": \"df\",\n  \"rows\": 19689,\n  \"fields\": [\n    {\n      \"column\": \"Crop\",\n      \"properties\": {\n        \"dtype\": \"category\",\n        \"num_unique_values\": 55,\n        \"samples\": [\n          \"Groundnut\",\n          \"Dry chillies\",\n          \"Horse-gram\"\n        ],\n        \"semantic_type\": \"\",\n        \"description\": \"\"\n      }\n    },\n    {\n      \"column\": \"Crop_Year\",\n      \"properties\": {\n        \"dtype\": \"number\",\n        \"std\": 6,\n        \"min\": 1997,\n        \"max\": 2020,\n        \"num_unique_values\": 24,\n        \"samples\": [\n          2005,\n          2013,\n          1997\n        ],\n        \"semantic_type\": \"\",\n        \"description\": \"\"\n      }\n    },\n    {\n      \"column\": \"Season\",\n      \"properties\": {\n        \"dtype\": \"category\",\n        \"num_unique_values\": 6,\n        \"samples\": [\n          \"Whole Year \",\n          \"Kharif     \",\n          \"Winter     \"\n        ],\n        \"semantic_type\": \"\",\n        \"description\": \"\"\n      }\n    },\n    {\n      \"column\": \"State\",\n      \"properties\": {\n        \"dtype\": \"category\",\n        \"num_unique_values\": 30,\n        \"samples\": [\n          \"Telangana\",\n          \"Punjab\",\n          \"Jharkhand\"\n        ],\n        \"semantic_type\": \"\",\n        \"description\": \"\"\n      }\n    },\n    {\n      \"column\": \"Area\",\n      \"properties\": {\n        \"dtype\": \"number\",\n        \"std\": 732828.6758877125,\n        \"min\": 0.5,\n        \"max\": 50808100.0,\n        \"num_unique_values\": 13644,\n        \"samples\": [\n          636951.0,\n          2283.0,\n          11488.0\n        ],\n        \"semantic_type\": \"\",\n        \"description\": \"\"\n      }\n    },\n    {\n      \"column\": \"Production\",\n      \"properties\": {\n        \"dtype\": \"number\",\n        \"std\": 263056839,\n        \"min\": 0,\n        \"max\": 6326000000,\n        \"num_unique_values\": 14016,\n        \"samples\": [\n          263316,\n          142,\n          284572\n        ],\n        \"semantic_type\": \"\",\n        \"description\": \"\"\n      }\n    },\n    {\n      \"column\": \"Annual_Rainfall\",\n      \"properties\": {\n        \"dtype\": \"number\",\n        \"std\": 816.9095887579965,\n        \"min\": 301.3,\n        \"max\": 6552.7,\n        \"num_unique_values\": 634,\n        \"samples\": [\n          1019.9,\n          1711.5,\n          800.8\n        ],\n        \"semantic_type\": \"\",\n        \"description\": \"\"\n      }\n    },\n    {\n      \"column\": \"Fertilizer\",\n      \"properties\": {\n        \"dtype\": \"number\",\n        \"std\": 94946004.48252656,\n        \"min\": 54.17,\n        \"max\": 4835406877.0,\n        \"num_unique_values\": 18598,\n        \"samples\": [\n          45900.48,\n          199161.6,\n          879144.96\n        ],\n        \"semantic_type\": \"\",\n        \"description\": \"\"\n      }\n    },\n    {\n      \"column\": \"Pesticide\",\n      \"properties\": {\n        \"dtype\": \"number\",\n        \"std\": 213287.35485950537,\n        \"min\": 0.09,\n        \"max\": 15750511.0,\n        \"num_unique_values\": 17405,\n        \"samples\": [\n          4031.61,\n          1069.2,\n          4430.14\n        ],\n        \"semantic_type\": \"\",\n        \"description\": \"\"\n      }\n    },\n    {\n      \"column\": \"Yield\",\n      \"properties\": {\n        \"dtype\": \"number\",\n        \"std\": 878.3061926565939,\n        \"min\": 0.0,\n        \"max\": 21105.0,\n        \"num_unique_values\": 13551,\n        \"samples\": [\n          7.9108,\n          0.351034483,\n          0.174347826\n        ],\n        \"semantic_type\": \"\",\n        \"description\": \"\"\n      }\n    }\n  ]\n}"
            }
          },
          "metadata": {},
          "execution_count": 6
        }
      ]
    },
    {
      "cell_type": "code",
      "source": [
        "df.info()"
      ],
      "metadata": {
        "colab": {
          "base_uri": "https://localhost:8080/"
        },
        "id": "FbHoXbBPLYBV",
        "outputId": "84983a7d-de09-4f05-ac16-4d49f5454eb2"
      },
      "execution_count": 20,
      "outputs": [
        {
          "output_type": "stream",
          "name": "stdout",
          "text": [
            "<class 'pandas.core.frame.DataFrame'>\n",
            "RangeIndex: 19689 entries, 0 to 19688\n",
            "Data columns (total 95 columns):\n",
            " #   Column                      Non-Null Count  Dtype  \n",
            "---  ------                      --------------  -----  \n",
            " 0   Crop_Year                   19689 non-null  int64  \n",
            " 1   Area                        19689 non-null  float64\n",
            " 2   Production                  19689 non-null  int64  \n",
            " 3   Annual_Rainfall             19689 non-null  float64\n",
            " 4   Fertilizer                  19689 non-null  float64\n",
            " 5   Pesticide                   19689 non-null  float64\n",
            " 6   Yield                       19689 non-null  float64\n",
            " 7   Crop_Arhar/Tur              19689 non-null  bool   \n",
            " 8   Crop_Bajra                  19689 non-null  bool   \n",
            " 9   Crop_Banana                 19689 non-null  bool   \n",
            " 10  Crop_Barley                 19689 non-null  bool   \n",
            " 11  Crop_Black pepper           19689 non-null  bool   \n",
            " 12  Crop_Cardamom               19689 non-null  bool   \n",
            " 13  Crop_Cashewnut              19689 non-null  bool   \n",
            " 14  Crop_Castor seed            19689 non-null  bool   \n",
            " 15  Crop_Coconut                19689 non-null  bool   \n",
            " 16  Crop_Coriander              19689 non-null  bool   \n",
            " 17  Crop_Cotton(lint)           19689 non-null  bool   \n",
            " 18  Crop_Cowpea(Lobia)          19689 non-null  bool   \n",
            " 19  Crop_Dry chillies           19689 non-null  bool   \n",
            " 20  Crop_Garlic                 19689 non-null  bool   \n",
            " 21  Crop_Ginger                 19689 non-null  bool   \n",
            " 22  Crop_Gram                   19689 non-null  bool   \n",
            " 23  Crop_Groundnut              19689 non-null  bool   \n",
            " 24  Crop_Guar seed              19689 non-null  bool   \n",
            " 25  Crop_Horse-gram             19689 non-null  bool   \n",
            " 26  Crop_Jowar                  19689 non-null  bool   \n",
            " 27  Crop_Jute                   19689 non-null  bool   \n",
            " 28  Crop_Khesari                19689 non-null  bool   \n",
            " 29  Crop_Linseed                19689 non-null  bool   \n",
            " 30  Crop_Maize                  19689 non-null  bool   \n",
            " 31  Crop_Masoor                 19689 non-null  bool   \n",
            " 32  Crop_Mesta                  19689 non-null  bool   \n",
            " 33  Crop_Moong(Green Gram)      19689 non-null  bool   \n",
            " 34  Crop_Moth                   19689 non-null  bool   \n",
            " 35  Crop_Niger seed             19689 non-null  bool   \n",
            " 36  Crop_Oilseeds total         19689 non-null  bool   \n",
            " 37  Crop_Onion                  19689 non-null  bool   \n",
            " 38  Crop_Other  Rabi pulses     19689 non-null  bool   \n",
            " 39  Crop_Other Cereals          19689 non-null  bool   \n",
            " 40  Crop_Other Kharif pulses    19689 non-null  bool   \n",
            " 41  Crop_Other Summer Pulses    19689 non-null  bool   \n",
            " 42  Crop_Peas & beans (Pulses)  19689 non-null  bool   \n",
            " 43  Crop_Potato                 19689 non-null  bool   \n",
            " 44  Crop_Ragi                   19689 non-null  bool   \n",
            " 45  Crop_Rapeseed &Mustard      19689 non-null  bool   \n",
            " 46  Crop_Rice                   19689 non-null  bool   \n",
            " 47  Crop_Safflower              19689 non-null  bool   \n",
            " 48  Crop_Sannhamp               19689 non-null  bool   \n",
            " 49  Crop_Sesamum                19689 non-null  bool   \n",
            " 50  Crop_Small millets          19689 non-null  bool   \n",
            " 51  Crop_Soyabean               19689 non-null  bool   \n",
            " 52  Crop_Sugarcane              19689 non-null  bool   \n",
            " 53  Crop_Sunflower              19689 non-null  bool   \n",
            " 54  Crop_Sweet potato           19689 non-null  bool   \n",
            " 55  Crop_Tapioca                19689 non-null  bool   \n",
            " 56  Crop_Tobacco                19689 non-null  bool   \n",
            " 57  Crop_Turmeric               19689 non-null  bool   \n",
            " 58  Crop_Urad                   19689 non-null  bool   \n",
            " 59  Crop_Wheat                  19689 non-null  bool   \n",
            " 60  Crop_other oilseeds         19689 non-null  bool   \n",
            " 61  Season_Kharif               19689 non-null  bool   \n",
            " 62  Season_Rabi                 19689 non-null  bool   \n",
            " 63  Season_Summer               19689 non-null  bool   \n",
            " 64  Season_Whole Year           19689 non-null  bool   \n",
            " 65  Season_Winter               19689 non-null  bool   \n",
            " 66  State_Arunachal Pradesh     19689 non-null  bool   \n",
            " 67  State_Assam                 19689 non-null  bool   \n",
            " 68  State_Bihar                 19689 non-null  bool   \n",
            " 69  State_Chhattisgarh          19689 non-null  bool   \n",
            " 70  State_Delhi                 19689 non-null  bool   \n",
            " 71  State_Goa                   19689 non-null  bool   \n",
            " 72  State_Gujarat               19689 non-null  bool   \n",
            " 73  State_Haryana               19689 non-null  bool   \n",
            " 74  State_Himachal Pradesh      19689 non-null  bool   \n",
            " 75  State_Jammu and Kashmir     19689 non-null  bool   \n",
            " 76  State_Jharkhand             19689 non-null  bool   \n",
            " 77  State_Karnataka             19689 non-null  bool   \n",
            " 78  State_Kerala                19689 non-null  bool   \n",
            " 79  State_Madhya Pradesh        19689 non-null  bool   \n",
            " 80  State_Maharashtra           19689 non-null  bool   \n",
            " 81  State_Manipur               19689 non-null  bool   \n",
            " 82  State_Meghalaya             19689 non-null  bool   \n",
            " 83  State_Mizoram               19689 non-null  bool   \n",
            " 84  State_Nagaland              19689 non-null  bool   \n",
            " 85  State_Odisha                19689 non-null  bool   \n",
            " 86  State_Puducherry            19689 non-null  bool   \n",
            " 87  State_Punjab                19689 non-null  bool   \n",
            " 88  State_Sikkim                19689 non-null  bool   \n",
            " 89  State_Tamil Nadu            19689 non-null  bool   \n",
            " 90  State_Telangana             19689 non-null  bool   \n",
            " 91  State_Tripura               19689 non-null  bool   \n",
            " 92  State_Uttar Pradesh         19689 non-null  bool   \n",
            " 93  State_Uttarakhand           19689 non-null  bool   \n",
            " 94  State_West Bengal           19689 non-null  bool   \n",
            "dtypes: bool(88), float64(5), int64(2)\n",
            "memory usage: 2.7 MB\n"
          ]
        }
      ]
    },
    {
      "cell_type": "code",
      "source": [
        "df.describe()"
      ],
      "metadata": {
        "colab": {
          "base_uri": "https://localhost:8080/",
          "height": 300
        },
        "id": "b_rHQAXgLcUB",
        "outputId": "600fbfb3-3d85-4779-8380-6f0a55937b4e"
      },
      "execution_count": 21,
      "outputs": [
        {
          "output_type": "execute_result",
          "data": {
            "text/plain": [
              "          Crop_Year          Area    Production  Annual_Rainfall  \\\n",
              "count  19689.000000  1.968900e+04  1.968900e+04     19689.000000   \n",
              "mean    2009.127584  1.799266e+05  1.643594e+07      1437.755177   \n",
              "std        6.498099  7.328287e+05  2.630568e+08       816.909589   \n",
              "min     1997.000000  5.000000e-01  0.000000e+00       301.300000   \n",
              "25%     2004.000000  1.390000e+03  1.393000e+03       940.700000   \n",
              "50%     2010.000000  9.317000e+03  1.380400e+04      1247.600000   \n",
              "75%     2015.000000  7.511200e+04  1.227180e+05      1643.700000   \n",
              "max     2020.000000  5.080810e+07  6.326000e+09      6552.700000   \n",
              "\n",
              "         Fertilizer     Pesticide         Yield  \n",
              "count  1.968900e+04  1.968900e+04  19689.000000  \n",
              "mean   2.410331e+07  4.884835e+04     79.954009  \n",
              "std    9.494600e+07  2.132874e+05    878.306193  \n",
              "min    5.417000e+01  9.000000e-02      0.000000  \n",
              "25%    1.880146e+05  3.567000e+02      0.600000  \n",
              "50%    1.234957e+06  2.421900e+03      1.030000  \n",
              "75%    1.000385e+07  2.004170e+04      2.388889  \n",
              "max    4.835407e+09  1.575051e+07  21105.000000  "
            ],
            "text/html": [
              "\n",
              "  <div id=\"df-8409478b-5690-4a0d-a582-d548b1b0ada3\" class=\"colab-df-container\">\n",
              "    <div>\n",
              "<style scoped>\n",
              "    .dataframe tbody tr th:only-of-type {\n",
              "        vertical-align: middle;\n",
              "    }\n",
              "\n",
              "    .dataframe tbody tr th {\n",
              "        vertical-align: top;\n",
              "    }\n",
              "\n",
              "    .dataframe thead th {\n",
              "        text-align: right;\n",
              "    }\n",
              "</style>\n",
              "<table border=\"1\" class=\"dataframe\">\n",
              "  <thead>\n",
              "    <tr style=\"text-align: right;\">\n",
              "      <th></th>\n",
              "      <th>Crop_Year</th>\n",
              "      <th>Area</th>\n",
              "      <th>Production</th>\n",
              "      <th>Annual_Rainfall</th>\n",
              "      <th>Fertilizer</th>\n",
              "      <th>Pesticide</th>\n",
              "      <th>Yield</th>\n",
              "    </tr>\n",
              "  </thead>\n",
              "  <tbody>\n",
              "    <tr>\n",
              "      <th>count</th>\n",
              "      <td>19689.000000</td>\n",
              "      <td>1.968900e+04</td>\n",
              "      <td>1.968900e+04</td>\n",
              "      <td>19689.000000</td>\n",
              "      <td>1.968900e+04</td>\n",
              "      <td>1.968900e+04</td>\n",
              "      <td>19689.000000</td>\n",
              "    </tr>\n",
              "    <tr>\n",
              "      <th>mean</th>\n",
              "      <td>2009.127584</td>\n",
              "      <td>1.799266e+05</td>\n",
              "      <td>1.643594e+07</td>\n",
              "      <td>1437.755177</td>\n",
              "      <td>2.410331e+07</td>\n",
              "      <td>4.884835e+04</td>\n",
              "      <td>79.954009</td>\n",
              "    </tr>\n",
              "    <tr>\n",
              "      <th>std</th>\n",
              "      <td>6.498099</td>\n",
              "      <td>7.328287e+05</td>\n",
              "      <td>2.630568e+08</td>\n",
              "      <td>816.909589</td>\n",
              "      <td>9.494600e+07</td>\n",
              "      <td>2.132874e+05</td>\n",
              "      <td>878.306193</td>\n",
              "    </tr>\n",
              "    <tr>\n",
              "      <th>min</th>\n",
              "      <td>1997.000000</td>\n",
              "      <td>5.000000e-01</td>\n",
              "      <td>0.000000e+00</td>\n",
              "      <td>301.300000</td>\n",
              "      <td>5.417000e+01</td>\n",
              "      <td>9.000000e-02</td>\n",
              "      <td>0.000000</td>\n",
              "    </tr>\n",
              "    <tr>\n",
              "      <th>25%</th>\n",
              "      <td>2004.000000</td>\n",
              "      <td>1.390000e+03</td>\n",
              "      <td>1.393000e+03</td>\n",
              "      <td>940.700000</td>\n",
              "      <td>1.880146e+05</td>\n",
              "      <td>3.567000e+02</td>\n",
              "      <td>0.600000</td>\n",
              "    </tr>\n",
              "    <tr>\n",
              "      <th>50%</th>\n",
              "      <td>2010.000000</td>\n",
              "      <td>9.317000e+03</td>\n",
              "      <td>1.380400e+04</td>\n",
              "      <td>1247.600000</td>\n",
              "      <td>1.234957e+06</td>\n",
              "      <td>2.421900e+03</td>\n",
              "      <td>1.030000</td>\n",
              "    </tr>\n",
              "    <tr>\n",
              "      <th>75%</th>\n",
              "      <td>2015.000000</td>\n",
              "      <td>7.511200e+04</td>\n",
              "      <td>1.227180e+05</td>\n",
              "      <td>1643.700000</td>\n",
              "      <td>1.000385e+07</td>\n",
              "      <td>2.004170e+04</td>\n",
              "      <td>2.388889</td>\n",
              "    </tr>\n",
              "    <tr>\n",
              "      <th>max</th>\n",
              "      <td>2020.000000</td>\n",
              "      <td>5.080810e+07</td>\n",
              "      <td>6.326000e+09</td>\n",
              "      <td>6552.700000</td>\n",
              "      <td>4.835407e+09</td>\n",
              "      <td>1.575051e+07</td>\n",
              "      <td>21105.000000</td>\n",
              "    </tr>\n",
              "  </tbody>\n",
              "</table>\n",
              "</div>\n",
              "    <div class=\"colab-df-buttons\">\n",
              "\n",
              "  <div class=\"colab-df-container\">\n",
              "    <button class=\"colab-df-convert\" onclick=\"convertToInteractive('df-8409478b-5690-4a0d-a582-d548b1b0ada3')\"\n",
              "            title=\"Convert this dataframe to an interactive table.\"\n",
              "            style=\"display:none;\">\n",
              "\n",
              "  <svg xmlns=\"http://www.w3.org/2000/svg\" height=\"24px\" viewBox=\"0 -960 960 960\">\n",
              "    <path d=\"M120-120v-720h720v720H120Zm60-500h600v-160H180v160Zm220 220h160v-160H400v160Zm0 220h160v-160H400v160ZM180-400h160v-160H180v160Zm440 0h160v-160H620v160ZM180-180h160v-160H180v160Zm440 0h160v-160H620v160Z\"/>\n",
              "  </svg>\n",
              "    </button>\n",
              "\n",
              "  <style>\n",
              "    .colab-df-container {\n",
              "      display:flex;\n",
              "      gap: 12px;\n",
              "    }\n",
              "\n",
              "    .colab-df-convert {\n",
              "      background-color: #E8F0FE;\n",
              "      border: none;\n",
              "      border-radius: 50%;\n",
              "      cursor: pointer;\n",
              "      display: none;\n",
              "      fill: #1967D2;\n",
              "      height: 32px;\n",
              "      padding: 0 0 0 0;\n",
              "      width: 32px;\n",
              "    }\n",
              "\n",
              "    .colab-df-convert:hover {\n",
              "      background-color: #E2EBFA;\n",
              "      box-shadow: 0px 1px 2px rgba(60, 64, 67, 0.3), 0px 1px 3px 1px rgba(60, 64, 67, 0.15);\n",
              "      fill: #174EA6;\n",
              "    }\n",
              "\n",
              "    .colab-df-buttons div {\n",
              "      margin-bottom: 4px;\n",
              "    }\n",
              "\n",
              "    [theme=dark] .colab-df-convert {\n",
              "      background-color: #3B4455;\n",
              "      fill: #D2E3FC;\n",
              "    }\n",
              "\n",
              "    [theme=dark] .colab-df-convert:hover {\n",
              "      background-color: #434B5C;\n",
              "      box-shadow: 0px 1px 3px 1px rgba(0, 0, 0, 0.15);\n",
              "      filter: drop-shadow(0px 1px 2px rgba(0, 0, 0, 0.3));\n",
              "      fill: #FFFFFF;\n",
              "    }\n",
              "  </style>\n",
              "\n",
              "    <script>\n",
              "      const buttonEl =\n",
              "        document.querySelector('#df-8409478b-5690-4a0d-a582-d548b1b0ada3 button.colab-df-convert');\n",
              "      buttonEl.style.display =\n",
              "        google.colab.kernel.accessAllowed ? 'block' : 'none';\n",
              "\n",
              "      async function convertToInteractive(key) {\n",
              "        const element = document.querySelector('#df-8409478b-5690-4a0d-a582-d548b1b0ada3');\n",
              "        const dataTable =\n",
              "          await google.colab.kernel.invokeFunction('convertToInteractive',\n",
              "                                                    [key], {});\n",
              "        if (!dataTable) return;\n",
              "\n",
              "        const docLinkHtml = 'Like what you see? Visit the ' +\n",
              "          '<a target=\"_blank\" href=https://colab.research.google.com/notebooks/data_table.ipynb>data table notebook</a>'\n",
              "          + ' to learn more about interactive tables.';\n",
              "        element.innerHTML = '';\n",
              "        dataTable['output_type'] = 'display_data';\n",
              "        await google.colab.output.renderOutput(dataTable, element);\n",
              "        const docLink = document.createElement('div');\n",
              "        docLink.innerHTML = docLinkHtml;\n",
              "        element.appendChild(docLink);\n",
              "      }\n",
              "    </script>\n",
              "  </div>\n",
              "\n",
              "\n",
              "    <div id=\"df-7af3d8a0-4dbd-41a1-ad99-8170b1abb9fe\">\n",
              "      <button class=\"colab-df-quickchart\" onclick=\"quickchart('df-7af3d8a0-4dbd-41a1-ad99-8170b1abb9fe')\"\n",
              "                title=\"Suggest charts\"\n",
              "                style=\"display:none;\">\n",
              "\n",
              "<svg xmlns=\"http://www.w3.org/2000/svg\" height=\"24px\"viewBox=\"0 0 24 24\"\n",
              "     width=\"24px\">\n",
              "    <g>\n",
              "        <path d=\"M19 3H5c-1.1 0-2 .9-2 2v14c0 1.1.9 2 2 2h14c1.1 0 2-.9 2-2V5c0-1.1-.9-2-2-2zM9 17H7v-7h2v7zm4 0h-2V7h2v10zm4 0h-2v-4h2v4z\"/>\n",
              "    </g>\n",
              "</svg>\n",
              "      </button>\n",
              "\n",
              "<style>\n",
              "  .colab-df-quickchart {\n",
              "      --bg-color: #E8F0FE;\n",
              "      --fill-color: #1967D2;\n",
              "      --hover-bg-color: #E2EBFA;\n",
              "      --hover-fill-color: #174EA6;\n",
              "      --disabled-fill-color: #AAA;\n",
              "      --disabled-bg-color: #DDD;\n",
              "  }\n",
              "\n",
              "  [theme=dark] .colab-df-quickchart {\n",
              "      --bg-color: #3B4455;\n",
              "      --fill-color: #D2E3FC;\n",
              "      --hover-bg-color: #434B5C;\n",
              "      --hover-fill-color: #FFFFFF;\n",
              "      --disabled-bg-color: #3B4455;\n",
              "      --disabled-fill-color: #666;\n",
              "  }\n",
              "\n",
              "  .colab-df-quickchart {\n",
              "    background-color: var(--bg-color);\n",
              "    border: none;\n",
              "    border-radius: 50%;\n",
              "    cursor: pointer;\n",
              "    display: none;\n",
              "    fill: var(--fill-color);\n",
              "    height: 32px;\n",
              "    padding: 0;\n",
              "    width: 32px;\n",
              "  }\n",
              "\n",
              "  .colab-df-quickchart:hover {\n",
              "    background-color: var(--hover-bg-color);\n",
              "    box-shadow: 0 1px 2px rgba(60, 64, 67, 0.3), 0 1px 3px 1px rgba(60, 64, 67, 0.15);\n",
              "    fill: var(--button-hover-fill-color);\n",
              "  }\n",
              "\n",
              "  .colab-df-quickchart-complete:disabled,\n",
              "  .colab-df-quickchart-complete:disabled:hover {\n",
              "    background-color: var(--disabled-bg-color);\n",
              "    fill: var(--disabled-fill-color);\n",
              "    box-shadow: none;\n",
              "  }\n",
              "\n",
              "  .colab-df-spinner {\n",
              "    border: 2px solid var(--fill-color);\n",
              "    border-color: transparent;\n",
              "    border-bottom-color: var(--fill-color);\n",
              "    animation:\n",
              "      spin 1s steps(1) infinite;\n",
              "  }\n",
              "\n",
              "  @keyframes spin {\n",
              "    0% {\n",
              "      border-color: transparent;\n",
              "      border-bottom-color: var(--fill-color);\n",
              "      border-left-color: var(--fill-color);\n",
              "    }\n",
              "    20% {\n",
              "      border-color: transparent;\n",
              "      border-left-color: var(--fill-color);\n",
              "      border-top-color: var(--fill-color);\n",
              "    }\n",
              "    30% {\n",
              "      border-color: transparent;\n",
              "      border-left-color: var(--fill-color);\n",
              "      border-top-color: var(--fill-color);\n",
              "      border-right-color: var(--fill-color);\n",
              "    }\n",
              "    40% {\n",
              "      border-color: transparent;\n",
              "      border-right-color: var(--fill-color);\n",
              "      border-top-color: var(--fill-color);\n",
              "    }\n",
              "    60% {\n",
              "      border-color: transparent;\n",
              "      border-right-color: var(--fill-color);\n",
              "    }\n",
              "    80% {\n",
              "      border-color: transparent;\n",
              "      border-right-color: var(--fill-color);\n",
              "      border-bottom-color: var(--fill-color);\n",
              "    }\n",
              "    90% {\n",
              "      border-color: transparent;\n",
              "      border-bottom-color: var(--fill-color);\n",
              "    }\n",
              "  }\n",
              "</style>\n",
              "\n",
              "      <script>\n",
              "        async function quickchart(key) {\n",
              "          const quickchartButtonEl =\n",
              "            document.querySelector('#' + key + ' button');\n",
              "          quickchartButtonEl.disabled = true;  // To prevent multiple clicks.\n",
              "          quickchartButtonEl.classList.add('colab-df-spinner');\n",
              "          try {\n",
              "            const charts = await google.colab.kernel.invokeFunction(\n",
              "                'suggestCharts', [key], {});\n",
              "          } catch (error) {\n",
              "            console.error('Error during call to suggestCharts:', error);\n",
              "          }\n",
              "          quickchartButtonEl.classList.remove('colab-df-spinner');\n",
              "          quickchartButtonEl.classList.add('colab-df-quickchart-complete');\n",
              "        }\n",
              "        (() => {\n",
              "          let quickchartButtonEl =\n",
              "            document.querySelector('#df-7af3d8a0-4dbd-41a1-ad99-8170b1abb9fe button');\n",
              "          quickchartButtonEl.style.display =\n",
              "            google.colab.kernel.accessAllowed ? 'block' : 'none';\n",
              "        })();\n",
              "      </script>\n",
              "    </div>\n",
              "\n",
              "    </div>\n",
              "  </div>\n"
            ],
            "application/vnd.google.colaboratory.intrinsic+json": {
              "type": "dataframe",
              "summary": "{\n  \"name\": \"df\",\n  \"rows\": 8,\n  \"fields\": [\n    {\n      \"column\": \"Crop_Year\",\n      \"properties\": {\n        \"dtype\": \"number\",\n        \"std\": 6390.454130598589,\n        \"min\": 6.498098951393112,\n        \"max\": 19689.0,\n        \"num_unique_values\": 8,\n        \"samples\": [\n          2009.1275839301134,\n          2010.0,\n          19689.0\n        ],\n        \"semantic_type\": \"\",\n        \"description\": \"\"\n      }\n    },\n    {\n      \"column\": \"Area\",\n      \"properties\": {\n        \"dtype\": \"number\",\n        \"std\": 17913650.25361799,\n        \"min\": 0.5,\n        \"max\": 50808100.0,\n        \"num_unique_values\": 8,\n        \"samples\": [\n          179926.57030814158,\n          9317.0,\n          19689.0\n        ],\n        \"semantic_type\": \"\",\n        \"description\": \"\"\n      }\n    },\n    {\n      \"column\": \"Production\",\n      \"properties\": {\n        \"dtype\": \"number\",\n        \"std\": 2224327119.1380153,\n        \"min\": 0.0,\n        \"max\": 6326000000.0,\n        \"num_unique_values\": 8,\n        \"samples\": [\n          16435941.273096653,\n          13804.0,\n          19689.0\n        ],\n        \"semantic_type\": \"\",\n        \"description\": \"\"\n      }\n    },\n    {\n      \"column\": \"Annual_Rainfall\",\n      \"properties\": {\n        \"dtype\": \"number\",\n        \"std\": 6606.016254753853,\n        \"min\": 301.3,\n        \"max\": 19689.0,\n        \"num_unique_values\": 8,\n        \"samples\": [\n          1437.7551766159684,\n          1247.6,\n          19689.0\n        ],\n        \"semantic_type\": \"\",\n        \"description\": \"\"\n      }\n    },\n    {\n      \"column\": \"Fertilizer\",\n      \"properties\": {\n        \"dtype\": \"number\",\n        \"std\": 1703288132.8346858,\n        \"min\": 54.17,\n        \"max\": 4835406877.0,\n        \"num_unique_values\": 8,\n        \"samples\": [\n          24103312.448805965,\n          1234957.44,\n          19689.0\n        ],\n        \"semantic_type\": \"\",\n        \"description\": \"\"\n      }\n    },\n    {\n      \"column\": \"Pesticide\",\n      \"properties\": {\n        \"dtype\": \"number\",\n        \"std\": 5553715.166707065,\n        \"min\": 0.09,\n        \"max\": 15750511.0,\n        \"num_unique_values\": 8,\n        \"samples\": [\n          48848.353392009245,\n          2421.9,\n          19689.0\n        ],\n        \"semantic_type\": \"\",\n        \"description\": \"\"\n      }\n    },\n    {\n      \"column\": \"Yield\",\n      \"properties\": {\n        \"dtype\": \"number\",\n        \"std\": 9380.124977099376,\n        \"min\": 0.0,\n        \"max\": 21105.0,\n        \"num_unique_values\": 8,\n        \"samples\": [\n          79.95400913008669,\n          1.03,\n          19689.0\n        ],\n        \"semantic_type\": \"\",\n        \"description\": \"\"\n      }\n    }\n  ]\n}"
            }
          },
          "metadata": {},
          "execution_count": 21
        }
      ]
    },
    {
      "cell_type": "code",
      "source": [
        "# Check for nulls\n",
        "print(df.isnull().sum())"
      ],
      "metadata": {
        "colab": {
          "base_uri": "https://localhost:8080/"
        },
        "id": "NjgM4Y5lJSeF",
        "outputId": "d0a59f51-5eb9-49be-d81f-082363e02613"
      },
      "execution_count": 7,
      "outputs": [
        {
          "output_type": "stream",
          "name": "stdout",
          "text": [
            "Crop               0\n",
            "Crop_Year          0\n",
            "Season             0\n",
            "State              0\n",
            "Area               0\n",
            "Production         0\n",
            "Annual_Rainfall    0\n",
            "Fertilizer         0\n",
            "Pesticide          0\n",
            "Yield              0\n",
            "dtype: int64\n"
          ]
        }
      ]
    },
    {
      "cell_type": "code",
      "source": [
        "# Fill or drop missing values (example: fill with mean)\n",
        "df.fillna(df.mean(numeric_only=True), inplace=True)"
      ],
      "metadata": {
        "id": "XSdW1mafJXNG"
      },
      "execution_count": 8,
      "outputs": []
    },
    {
      "cell_type": "code",
      "source": [
        "# Convert year to datetime if needed\n",
        "if 'Year' in df.columns:\n",
        "    df['Year'] = pd.to_datetime(df['Year'], format='%Y')"
      ],
      "metadata": {
        "id": "hFZCrjHvRhly"
      },
      "execution_count": 39,
      "outputs": []
    },
    {
      "cell_type": "code",
      "source": [
        "# If categorical data is there\n",
        "df = pd.get_dummies(df, drop_first=True)"
      ],
      "metadata": {
        "id": "Efo3G4nCJbTW"
      },
      "execution_count": 9,
      "outputs": []
    },
    {
      "cell_type": "code",
      "source": [
        "print(df.columns)"
      ],
      "metadata": {
        "colab": {
          "base_uri": "https://localhost:8080/"
        },
        "id": "O5J7EkRqdh2m",
        "outputId": "8aa2eafb-5a79-41ce-b201-c44a93912c52"
      },
      "execution_count": 42,
      "outputs": [
        {
          "output_type": "stream",
          "name": "stdout",
          "text": [
            "Index(['Crop_Year', 'Area', 'Production', 'Annual_Rainfall', 'Fertilizer',\n",
            "       'Pesticide', 'Yield', 'Crop_Arhar/Tur', 'Crop_Bajra', 'Crop_Banana',\n",
            "       'Crop_Barley', 'Crop_Black pepper', 'Crop_Cardamom', 'Crop_Cashewnut',\n",
            "       'Crop_Castor seed', 'Crop_Coconut ', 'Crop_Coriander',\n",
            "       'Crop_Cotton(lint)', 'Crop_Cowpea(Lobia)', 'Crop_Dry chillies',\n",
            "       'Crop_Garlic', 'Crop_Ginger', 'Crop_Gram', 'Crop_Groundnut',\n",
            "       'Crop_Guar seed', 'Crop_Horse-gram', 'Crop_Jowar', 'Crop_Jute',\n",
            "       'Crop_Khesari', 'Crop_Linseed', 'Crop_Maize', 'Crop_Masoor',\n",
            "       'Crop_Mesta', 'Crop_Moong(Green Gram)', 'Crop_Moth', 'Crop_Niger seed',\n",
            "       'Crop_Oilseeds total', 'Crop_Onion', 'Crop_Other  Rabi pulses',\n",
            "       'Crop_Other Cereals', 'Crop_Other Kharif pulses',\n",
            "       'Crop_Other Summer Pulses', 'Crop_Peas & beans (Pulses)', 'Crop_Potato',\n",
            "       'Crop_Ragi', 'Crop_Rapeseed &Mustard', 'Crop_Rice', 'Crop_Safflower',\n",
            "       'Crop_Sannhamp', 'Crop_Sesamum', 'Crop_Small millets', 'Crop_Soyabean',\n",
            "       'Crop_Sugarcane', 'Crop_Sunflower', 'Crop_Sweet potato', 'Crop_Tapioca',\n",
            "       'Crop_Tobacco', 'Crop_Turmeric', 'Crop_Urad', 'Crop_Wheat',\n",
            "       'Crop_other oilseeds', 'Season_Kharif     ', 'Season_Rabi       ',\n",
            "       'Season_Summer     ', 'Season_Whole Year ', 'Season_Winter     ',\n",
            "       'State_Arunachal Pradesh', 'State_Assam', 'State_Bihar',\n",
            "       'State_Chhattisgarh', 'State_Delhi', 'State_Goa', 'State_Gujarat',\n",
            "       'State_Haryana', 'State_Himachal Pradesh', 'State_Jammu and Kashmir',\n",
            "       'State_Jharkhand', 'State_Karnataka', 'State_Kerala',\n",
            "       'State_Madhya Pradesh', 'State_Maharashtra', 'State_Manipur',\n",
            "       'State_Meghalaya', 'State_Mizoram', 'State_Nagaland', 'State_Odisha',\n",
            "       'State_Puducherry', 'State_Punjab', 'State_Sikkim', 'State_Tamil Nadu',\n",
            "       'State_Telangana', 'State_Tripura', 'State_Uttar Pradesh',\n",
            "       'State_Uttarakhand', 'State_West Bengal'],\n",
            "      dtype='object')\n"
          ]
        }
      ]
    },
    {
      "cell_type": "code",
      "source": [
        "#FEATURE ENGINEERING:-\n",
        "\n",
        "#Lag Features (Previous year’s yield, rainfall, etc.)\n",
        "print(df.columns.tolist())"
      ],
      "metadata": {
        "colab": {
          "base_uri": "https://localhost:8080/"
        },
        "id": "mGCAY3CieUQB",
        "outputId": "d66934ee-2eb0-40ce-a405-85529ed9ec4c"
      },
      "execution_count": 47,
      "outputs": [
        {
          "output_type": "stream",
          "name": "stdout",
          "text": [
            "['Crop_Year', 'Area', 'Production', 'Annual_Rainfall', 'Fertilizer', 'Pesticide', 'Yield', 'Crop_Arhar/Tur', 'Crop_Bajra', 'Crop_Banana', 'Crop_Barley', 'Crop_Black pepper', 'Crop_Cardamom', 'Crop_Cashewnut', 'Crop_Castor seed', 'Crop_Coconut ', 'Crop_Coriander', 'Crop_Cotton(lint)', 'Crop_Cowpea(Lobia)', 'Crop_Dry chillies', 'Crop_Garlic', 'Crop_Ginger', 'Crop_Gram', 'Crop_Groundnut', 'Crop_Guar seed', 'Crop_Horse-gram', 'Crop_Jowar', 'Crop_Jute', 'Crop_Khesari', 'Crop_Linseed', 'Crop_Maize', 'Crop_Masoor', 'Crop_Mesta', 'Crop_Moong(Green Gram)', 'Crop_Moth', 'Crop_Niger seed', 'Crop_Oilseeds total', 'Crop_Onion', 'Crop_Other  Rabi pulses', 'Crop_Other Cereals', 'Crop_Other Kharif pulses', 'Crop_Other Summer Pulses', 'Crop_Peas & beans (Pulses)', 'Crop_Potato', 'Crop_Ragi', 'Crop_Rapeseed &Mustard', 'Crop_Rice', 'Crop_Safflower', 'Crop_Sannhamp', 'Crop_Sesamum', 'Crop_Small millets', 'Crop_Soyabean', 'Crop_Sugarcane', 'Crop_Sunflower', 'Crop_Sweet potato', 'Crop_Tapioca', 'Crop_Tobacco', 'Crop_Turmeric', 'Crop_Urad', 'Crop_Wheat', 'Crop_other oilseeds', 'Season_Kharif     ', 'Season_Rabi       ', 'Season_Summer     ', 'Season_Whole Year ', 'Season_Winter     ', 'State_Arunachal Pradesh', 'State_Assam', 'State_Bihar', 'State_Chhattisgarh', 'State_Delhi', 'State_Goa', 'State_Gujarat', 'State_Haryana', 'State_Himachal Pradesh', 'State_Jammu and Kashmir', 'State_Jharkhand', 'State_Karnataka', 'State_Kerala', 'State_Madhya Pradesh', 'State_Maharashtra', 'State_Manipur', 'State_Meghalaya', 'State_Mizoram', 'State_Nagaland', 'State_Odisha', 'State_Puducherry', 'State_Punjab', 'State_Sikkim', 'State_Tamil Nadu', 'State_Telangana', 'State_Tripura', 'State_Uttar Pradesh', 'State_Uttarakhand', 'State_West Bengal']\n"
          ]
        }
      ]
    },
    {
      "cell_type": "code",
      "source": [
        "group_col = 'State' if 'State' in df.columns else None\n",
        "\n",
        "for col in ['Yield', 'Rainfall', 'Temperature']:\n",
        "    if col in df.columns:\n",
        "        if group_col:\n",
        "            df[f'{col}_lag1'] = df.groupby(group_col)[col].shift(1)\n",
        "        else:\n",
        "            df[f'{col}_lag1'] = df[col].shift(1)  # fallback\n"
      ],
      "metadata": {
        "id": "GLcoMSSdeWhT"
      },
      "execution_count": 48,
      "outputs": []
    },
    {
      "cell_type": "code",
      "source": [
        "df.columns.tolist()"
      ],
      "metadata": {
        "colab": {
          "base_uri": "https://localhost:8080/"
        },
        "id": "2zwXtYqieZoZ",
        "outputId": "efdf3687-6d1e-445a-adeb-f327021b2d8c"
      },
      "execution_count": 49,
      "outputs": [
        {
          "output_type": "execute_result",
          "data": {
            "text/plain": [
              "['Crop_Year',\n",
              " 'Area',\n",
              " 'Production',\n",
              " 'Annual_Rainfall',\n",
              " 'Fertilizer',\n",
              " 'Pesticide',\n",
              " 'Yield',\n",
              " 'Crop_Arhar/Tur',\n",
              " 'Crop_Bajra',\n",
              " 'Crop_Banana',\n",
              " 'Crop_Barley',\n",
              " 'Crop_Black pepper',\n",
              " 'Crop_Cardamom',\n",
              " 'Crop_Cashewnut',\n",
              " 'Crop_Castor seed',\n",
              " 'Crop_Coconut ',\n",
              " 'Crop_Coriander',\n",
              " 'Crop_Cotton(lint)',\n",
              " 'Crop_Cowpea(Lobia)',\n",
              " 'Crop_Dry chillies',\n",
              " 'Crop_Garlic',\n",
              " 'Crop_Ginger',\n",
              " 'Crop_Gram',\n",
              " 'Crop_Groundnut',\n",
              " 'Crop_Guar seed',\n",
              " 'Crop_Horse-gram',\n",
              " 'Crop_Jowar',\n",
              " 'Crop_Jute',\n",
              " 'Crop_Khesari',\n",
              " 'Crop_Linseed',\n",
              " 'Crop_Maize',\n",
              " 'Crop_Masoor',\n",
              " 'Crop_Mesta',\n",
              " 'Crop_Moong(Green Gram)',\n",
              " 'Crop_Moth',\n",
              " 'Crop_Niger seed',\n",
              " 'Crop_Oilseeds total',\n",
              " 'Crop_Onion',\n",
              " 'Crop_Other  Rabi pulses',\n",
              " 'Crop_Other Cereals',\n",
              " 'Crop_Other Kharif pulses',\n",
              " 'Crop_Other Summer Pulses',\n",
              " 'Crop_Peas & beans (Pulses)',\n",
              " 'Crop_Potato',\n",
              " 'Crop_Ragi',\n",
              " 'Crop_Rapeseed &Mustard',\n",
              " 'Crop_Rice',\n",
              " 'Crop_Safflower',\n",
              " 'Crop_Sannhamp',\n",
              " 'Crop_Sesamum',\n",
              " 'Crop_Small millets',\n",
              " 'Crop_Soyabean',\n",
              " 'Crop_Sugarcane',\n",
              " 'Crop_Sunflower',\n",
              " 'Crop_Sweet potato',\n",
              " 'Crop_Tapioca',\n",
              " 'Crop_Tobacco',\n",
              " 'Crop_Turmeric',\n",
              " 'Crop_Urad',\n",
              " 'Crop_Wheat',\n",
              " 'Crop_other oilseeds',\n",
              " 'Season_Kharif     ',\n",
              " 'Season_Rabi       ',\n",
              " 'Season_Summer     ',\n",
              " 'Season_Whole Year ',\n",
              " 'Season_Winter     ',\n",
              " 'State_Arunachal Pradesh',\n",
              " 'State_Assam',\n",
              " 'State_Bihar',\n",
              " 'State_Chhattisgarh',\n",
              " 'State_Delhi',\n",
              " 'State_Goa',\n",
              " 'State_Gujarat',\n",
              " 'State_Haryana',\n",
              " 'State_Himachal Pradesh',\n",
              " 'State_Jammu and Kashmir',\n",
              " 'State_Jharkhand',\n",
              " 'State_Karnataka',\n",
              " 'State_Kerala',\n",
              " 'State_Madhya Pradesh',\n",
              " 'State_Maharashtra',\n",
              " 'State_Manipur',\n",
              " 'State_Meghalaya',\n",
              " 'State_Mizoram',\n",
              " 'State_Nagaland',\n",
              " 'State_Odisha',\n",
              " 'State_Puducherry',\n",
              " 'State_Punjab',\n",
              " 'State_Sikkim',\n",
              " 'State_Tamil Nadu',\n",
              " 'State_Telangana',\n",
              " 'State_Tripura',\n",
              " 'State_Uttar Pradesh',\n",
              " 'State_Uttarakhand',\n",
              " 'State_West Bengal',\n",
              " 'Yield_lag1']"
            ]
          },
          "metadata": {},
          "execution_count": 49
        }
      ]
    },
    {
      "cell_type": "code",
      "source": [
        " #Moving Averages (3-year, 5-year)\n",
        "\n",
        "# Choose a grouping column if available\n",
        "group_col = None\n",
        "for col in ['Region', 'State', 'District']:\n",
        "    if col in df.columns:\n",
        "        group_col = col\n",
        "        break\n",
        "\n",
        "# Safely create moving averages\n",
        "for window in [3, 5]:\n",
        "    for col in ['Yield', 'Rainfall', 'Temperature']:\n",
        "        if col in df.columns:\n",
        "            if group_col:\n",
        "                df[f'{col}_ma{window}'] = df.groupby(group_col)[col].transform(lambda x: x.rolling(window).mean())\n",
        "            else:\n",
        "                df[f'{col}_ma{window}'] = df[col].rolling(window).mean()"
      ],
      "metadata": {
        "id": "CIHaw2PVevtu"
      },
      "execution_count": 51,
      "outputs": []
    },
    {
      "cell_type": "code",
      "source": [
        "#Season Encoding\n",
        "if 'Season' in df.columns:\n",
        "    df = pd.get_dummies(df, columns=['Season'], prefix='Season')"
      ],
      "metadata": {
        "id": "Uh3JsA8cfCz-"
      },
      "execution_count": 52,
      "outputs": []
    },
    {
      "cell_type": "code",
      "source": [
        "#Target Variable Engineering:-\n",
        "\n",
        "#Yield Prediction Target\n",
        "target_yield = 'Yield'  # already present\n"
      ],
      "metadata": {
        "id": "BVDsGCGGfdsG"
      },
      "execution_count": 55,
      "outputs": []
    },
    {
      "cell_type": "code",
      "source": [
        "#Sustainability Score Prediction\n",
        "\n",
        "# Auto-inspect dataset\n",
        "print(\" Columns in dataset:\\n\", df.columns.tolist())\n",
        "print(\"\\n Numeric columns:\\n\", df.select_dtypes(include=np.number).columns.tolist())\n",
        "print(\"\\n Non-numeric columns:\\n\", df.select_dtypes(exclude=np.number).columns.tolist())\n",
        "print(\"\\n Missing values per column:\\n\", df.isnull().sum())\n"
      ],
      "metadata": {
        "colab": {
          "base_uri": "https://localhost:8080/"
        },
        "id": "xQc1A1g5fqIc",
        "outputId": "5634c26f-a896-4f88-8902-f18bc0071a0e"
      },
      "execution_count": 58,
      "outputs": [
        {
          "output_type": "stream",
          "name": "stdout",
          "text": [
            " Columns in dataset:\n",
            " ['Crop_Year', 'Area', 'Production', 'Annual_Rainfall', 'Fertilizer', 'Pesticide', 'Yield', 'Crop_Arhar/Tur', 'Crop_Bajra', 'Crop_Banana', 'Crop_Barley', 'Crop_Black pepper', 'Crop_Cardamom', 'Crop_Cashewnut', 'Crop_Castor seed', 'Crop_Coconut ', 'Crop_Coriander', 'Crop_Cotton(lint)', 'Crop_Cowpea(Lobia)', 'Crop_Dry chillies', 'Crop_Garlic', 'Crop_Ginger', 'Crop_Gram', 'Crop_Groundnut', 'Crop_Guar seed', 'Crop_Horse-gram', 'Crop_Jowar', 'Crop_Jute', 'Crop_Khesari', 'Crop_Linseed', 'Crop_Maize', 'Crop_Masoor', 'Crop_Mesta', 'Crop_Moong(Green Gram)', 'Crop_Moth', 'Crop_Niger seed', 'Crop_Oilseeds total', 'Crop_Onion', 'Crop_Other  Rabi pulses', 'Crop_Other Cereals', 'Crop_Other Kharif pulses', 'Crop_Other Summer Pulses', 'Crop_Peas & beans (Pulses)', 'Crop_Potato', 'Crop_Ragi', 'Crop_Rapeseed &Mustard', 'Crop_Rice', 'Crop_Safflower', 'Crop_Sannhamp', 'Crop_Sesamum', 'Crop_Small millets', 'Crop_Soyabean', 'Crop_Sugarcane', 'Crop_Sunflower', 'Crop_Sweet potato', 'Crop_Tapioca', 'Crop_Tobacco', 'Crop_Turmeric', 'Crop_Urad', 'Crop_Wheat', 'Crop_other oilseeds', 'Season_Kharif     ', 'Season_Rabi       ', 'Season_Summer     ', 'Season_Whole Year ', 'Season_Winter     ', 'State_Arunachal Pradesh', 'State_Assam', 'State_Bihar', 'State_Chhattisgarh', 'State_Delhi', 'State_Goa', 'State_Gujarat', 'State_Haryana', 'State_Himachal Pradesh', 'State_Jammu and Kashmir', 'State_Jharkhand', 'State_Karnataka', 'State_Kerala', 'State_Madhya Pradesh', 'State_Maharashtra', 'State_Manipur', 'State_Meghalaya', 'State_Mizoram', 'State_Nagaland', 'State_Odisha', 'State_Puducherry', 'State_Punjab', 'State_Sikkim', 'State_Tamil Nadu', 'State_Telangana', 'State_Tripura', 'State_Uttar Pradesh', 'State_Uttarakhand', 'State_West Bengal', 'Yield_lag1', 'Yield_ma3', 'Yield_ma5']\n",
            "\n",
            " Numeric columns:\n",
            " ['Crop_Year', 'Area', 'Production', 'Annual_Rainfall', 'Fertilizer', 'Pesticide', 'Yield', 'Yield_lag1', 'Yield_ma3', 'Yield_ma5']\n",
            "\n",
            " Non-numeric columns:\n",
            " ['Crop_Arhar/Tur', 'Crop_Bajra', 'Crop_Banana', 'Crop_Barley', 'Crop_Black pepper', 'Crop_Cardamom', 'Crop_Cashewnut', 'Crop_Castor seed', 'Crop_Coconut ', 'Crop_Coriander', 'Crop_Cotton(lint)', 'Crop_Cowpea(Lobia)', 'Crop_Dry chillies', 'Crop_Garlic', 'Crop_Ginger', 'Crop_Gram', 'Crop_Groundnut', 'Crop_Guar seed', 'Crop_Horse-gram', 'Crop_Jowar', 'Crop_Jute', 'Crop_Khesari', 'Crop_Linseed', 'Crop_Maize', 'Crop_Masoor', 'Crop_Mesta', 'Crop_Moong(Green Gram)', 'Crop_Moth', 'Crop_Niger seed', 'Crop_Oilseeds total', 'Crop_Onion', 'Crop_Other  Rabi pulses', 'Crop_Other Cereals', 'Crop_Other Kharif pulses', 'Crop_Other Summer Pulses', 'Crop_Peas & beans (Pulses)', 'Crop_Potato', 'Crop_Ragi', 'Crop_Rapeseed &Mustard', 'Crop_Rice', 'Crop_Safflower', 'Crop_Sannhamp', 'Crop_Sesamum', 'Crop_Small millets', 'Crop_Soyabean', 'Crop_Sugarcane', 'Crop_Sunflower', 'Crop_Sweet potato', 'Crop_Tapioca', 'Crop_Tobacco', 'Crop_Turmeric', 'Crop_Urad', 'Crop_Wheat', 'Crop_other oilseeds', 'Season_Kharif     ', 'Season_Rabi       ', 'Season_Summer     ', 'Season_Whole Year ', 'Season_Winter     ', 'State_Arunachal Pradesh', 'State_Assam', 'State_Bihar', 'State_Chhattisgarh', 'State_Delhi', 'State_Goa', 'State_Gujarat', 'State_Haryana', 'State_Himachal Pradesh', 'State_Jammu and Kashmir', 'State_Jharkhand', 'State_Karnataka', 'State_Kerala', 'State_Madhya Pradesh', 'State_Maharashtra', 'State_Manipur', 'State_Meghalaya', 'State_Mizoram', 'State_Nagaland', 'State_Odisha', 'State_Puducherry', 'State_Punjab', 'State_Sikkim', 'State_Tamil Nadu', 'State_Telangana', 'State_Tripura', 'State_Uttar Pradesh', 'State_Uttarakhand', 'State_West Bengal']\n",
            "\n",
            " Missing values per column:\n",
            " Crop_Year            0\n",
            "Area                 0\n",
            "Production           0\n",
            "Annual_Rainfall      0\n",
            "Fertilizer           0\n",
            "                    ..\n",
            "State_Uttarakhand    0\n",
            "State_West Bengal    0\n",
            "Yield_lag1           1\n",
            "Yield_ma3            2\n",
            "Yield_ma5            4\n",
            "Length: 98, dtype: int64\n"
          ]
        }
      ]
    },
    {
      "cell_type": "code",
      "source": [
        "import pandas as pd\n",
        "import numpy as np\n",
        "from sklearn.preprocessing import StandardScaler\n",
        "from sklearn.cluster import KMeans\n",
        "\n",
        "# Show column names for debug\n",
        "print(\"Available columns:\", df.columns.tolist())\n",
        "\n",
        "# Detect potential grouping column\n",
        "group_col = None\n",
        "for col in ['Region', 'State', 'District']:\n",
        "    if col in df.columns:\n",
        "        group_col = col\n",
        "        break\n",
        "\n",
        "# 1. Lag Features\n",
        "for col in df.select_dtypes(include=np.number).columns:\n",
        "    if group_col:\n",
        "        df[f'{col}_lag1'] = df.groupby(group_col)[col].shift(1)\n",
        "    else:\n",
        "        df[f'{col}_lag1'] = df[col].shift(1)\n",
        "\n",
        "# 2. Moving Averages\n",
        "for window in [3, 5]:\n",
        "    for col in df.select_dtypes(include=np.number).columns:\n",
        "        if group_col:\n",
        "            df[f'{col}_ma{window}'] = df.groupby(group_col)[col].transform(lambda x: x.rolling(window).mean())\n",
        "        else:\n",
        "            df[f'{col}_ma{window}'] = df[col].rolling(window).mean()\n",
        "\n",
        "# 3. Target Variable Placeholders (create if not present)\n",
        "if 'Yield' not in df.columns:\n",
        "    df['Yield'] = np.random.uniform(1, 5, len(df))  # Dummy yield values\n",
        "\n",
        "df['Sustainability_Score'] = np.random.uniform(0, 1, len(df))  # Simulated target\n",
        "df['Production'] = df['Yield'] * np.random.uniform(0.8, 1.2, len(df))  # Production estimate\n",
        "df['Resource_Efficiency'] = df['Yield'] / (df['Yield'] + 1)  # Simulated metric\n",
        "\n",
        "# 4. Advanced Feature Engineering (simulate missing cols if needed)\n",
        "num_cols = df.select_dtypes(include=np.number).columns.tolist()\n",
        "\n",
        "def safe_ratio(numerator, denominator, name):\n",
        "    if numerator in df.columns and denominator in df.columns:\n",
        "        df[name] = df[numerator] / (df[denominator] + 1e-6)\n",
        "    else:\n",
        "        df[name] = np.random.uniform(0.5, 1.5, len(df))\n",
        "\n",
        "safe_ratio('Fertilizer_Used', 'Yield', 'Fertilizer_to_Yield_Ratio')\n",
        "safe_ratio('Pesticide_Used', 'Yield', 'Pesticide_Efficiency_Index')\n",
        "\n",
        "df['Climate_Resilience_Score'] = np.random.uniform(0, 1, len(df))\n",
        "df['Regional_Productivity_Index'] = df['Yield'] / df['Yield'].mean()\n",
        "\n",
        "# 5. Regional Clustering (if enough features)\n",
        "features_for_clustering = [col for col in ['Rainfall', 'Temperature', 'Soil_Quality'] if col in df.columns]\n",
        "if len(features_for_clustering) >= 2:\n",
        "    scaler = StandardScaler()\n",
        "    region_scaled = scaler.fit_transform(df[features_for_clustering].dropna())\n",
        "    kmeans = KMeans(n_clusters=4, random_state=42)\n",
        "    df.loc[df[features_for_clustering].dropna().index, 'Region_Cluster'] = kmeans.fit_predict(region_scaled)\n",
        "else:\n",
        "    df['Region_Cluster'] = np.random.randint(0, 4, len(df))  # simulate clustering\n",
        "\n",
        "print(\" Feature engineering completed.\")\n"
      ],
      "metadata": {
        "colab": {
          "base_uri": "https://localhost:8080/"
        },
        "id": "gBKRtyOlgsjG",
        "outputId": "0fddf326-4699-4b2f-e434-0a4c22e65b97"
      },
      "execution_count": 60,
      "outputs": [
        {
          "output_type": "stream",
          "name": "stdout",
          "text": [
            "Available columns: ['Crop_Year', 'Area', 'Production', 'Annual_Rainfall', 'Fertilizer', 'Pesticide', 'Yield', 'Crop_Arhar/Tur', 'Crop_Bajra', 'Crop_Banana', 'Crop_Barley', 'Crop_Black pepper', 'Crop_Cardamom', 'Crop_Cashewnut', 'Crop_Castor seed', 'Crop_Coconut ', 'Crop_Coriander', 'Crop_Cotton(lint)', 'Crop_Cowpea(Lobia)', 'Crop_Dry chillies', 'Crop_Garlic', 'Crop_Ginger', 'Crop_Gram', 'Crop_Groundnut', 'Crop_Guar seed', 'Crop_Horse-gram', 'Crop_Jowar', 'Crop_Jute', 'Crop_Khesari', 'Crop_Linseed', 'Crop_Maize', 'Crop_Masoor', 'Crop_Mesta', 'Crop_Moong(Green Gram)', 'Crop_Moth', 'Crop_Niger seed', 'Crop_Oilseeds total', 'Crop_Onion', 'Crop_Other  Rabi pulses', 'Crop_Other Cereals', 'Crop_Other Kharif pulses', 'Crop_Other Summer Pulses', 'Crop_Peas & beans (Pulses)', 'Crop_Potato', 'Crop_Ragi', 'Crop_Rapeseed &Mustard', 'Crop_Rice', 'Crop_Safflower', 'Crop_Sannhamp', 'Crop_Sesamum', 'Crop_Small millets', 'Crop_Soyabean', 'Crop_Sugarcane', 'Crop_Sunflower', 'Crop_Sweet potato', 'Crop_Tapioca', 'Crop_Tobacco', 'Crop_Turmeric', 'Crop_Urad', 'Crop_Wheat', 'Crop_other oilseeds', 'Season_Kharif     ', 'Season_Rabi       ', 'Season_Summer     ', 'Season_Whole Year ', 'Season_Winter     ', 'State_Arunachal Pradesh', 'State_Assam', 'State_Bihar', 'State_Chhattisgarh', 'State_Delhi', 'State_Goa', 'State_Gujarat', 'State_Haryana', 'State_Himachal Pradesh', 'State_Jammu and Kashmir', 'State_Jharkhand', 'State_Karnataka', 'State_Kerala', 'State_Madhya Pradesh', 'State_Maharashtra', 'State_Manipur', 'State_Meghalaya', 'State_Mizoram', 'State_Nagaland', 'State_Odisha', 'State_Puducherry', 'State_Punjab', 'State_Sikkim', 'State_Tamil Nadu', 'State_Telangana', 'State_Tripura', 'State_Uttar Pradesh', 'State_Uttarakhand', 'State_West Bengal', 'Yield_lag1', 'Yield_ma3', 'Yield_ma5']\n",
            " Feature engineering completed.\n"
          ]
        }
      ]
    },
    {
      "cell_type": "code",
      "source": [
        "# Feature-target split\n",
        "X = df.drop(['Yield'], axis=1)  # Adjust 'Yield' if target column has another name\n",
        "y = df['Yield']"
      ],
      "metadata": {
        "id": "ZjD2D4mbJe28"
      },
      "execution_count": 10,
      "outputs": []
    },
    {
      "cell_type": "code",
      "source": [
        "# Scaling\n",
        "scaler = StandardScaler()\n",
        "X_scaled = scaler.fit_transform(X)"
      ],
      "metadata": {
        "id": "1HxeCDsoJnzV"
      },
      "execution_count": 11,
      "outputs": []
    },
    {
      "cell_type": "code",
      "source": [
        "#Train-Test_Split\n",
        "X_train, X_test, y_train, y_test = train_test_split(\n",
        "    X_scaled, y, test_size=0.2, random_state=42\n",
        ")"
      ],
      "metadata": {
        "id": "devDrV9kJrn6"
      },
      "execution_count": 12,
      "outputs": []
    },
    {
      "cell_type": "code",
      "source": [
        "#Linear Regression\n",
        "from sklearn.metrics import mean_squared_error, r2_score\n",
        "from math import sqrt\n",
        "\n",
        "print(\"Linear Regression RMSE:\", sqrt(mean_squared_error(y_test, y_pred)))\n",
        "print(\"R² Score:\", r2_score(y_test, y_pred))\n"
      ],
      "metadata": {
        "colab": {
          "base_uri": "https://localhost:8080/"
        },
        "id": "-7ggeiu0MG3o",
        "outputId": "c2d65a76-7248-4f01-b623-9d62cf987119"
      },
      "execution_count": 28,
      "outputs": [
        {
          "output_type": "stream",
          "name": "stdout",
          "text": [
            "Linear Regression RMSE: 398.0727666964094\n",
            "R² Score: 0.8022291020136727\n"
          ]
        }
      ]
    },
    {
      "cell_type": "code",
      "source": [
        "#Decision Tree\n",
        "from sklearn.metrics import mean_squared_error, r2_score\n",
        "from math import sqrt\n",
        "\n",
        "# Train and predict\n",
        "dt = DecisionTreeRegressor(random_state=42)\n",
        "dt.fit(X_train, y_train)\n",
        "y_pred_dt = dt.predict(X_test)\n",
        "\n",
        "# Print performance\n",
        "print(\"Decision Tree RMSE:\", sqrt(mean_squared_error(y_test, y_pred_dt)))\n",
        "print(\"R² Score:\", r2_score(y_test, y_pred_dt))\n"
      ],
      "metadata": {
        "colab": {
          "base_uri": "https://localhost:8080/"
        },
        "id": "b4sKxeauNUPB",
        "outputId": "c6a146fd-5576-40aa-8b3b-80ee93727556"
      },
      "execution_count": 31,
      "outputs": [
        {
          "output_type": "stream",
          "name": "stdout",
          "text": [
            "Decision Tree RMSE: 134.655718909874\n",
            "R² Score: 0.9773698695867898\n"
          ]
        }
      ]
    },
    {
      "cell_type": "code",
      "source": [
        "#Random Forest\n",
        "rf = RandomForestRegressor(n_estimators=50, max_depth=10, n_jobs=-1, random_state=42)\n",
        "rf.fit(X_train, y_train)\n",
        "y_pred_rf = rf.predict(X_test)\n",
        "\n",
        "print(\"Random Forest RMSE:\", sqrt(mean_squared_error(y_test, y_pred_rf)))\n",
        "print(\"R² Score:\", r2_score(y_test, y_pred_rf))\n"
      ],
      "metadata": {
        "colab": {
          "base_uri": "https://localhost:8080/"
        },
        "id": "fLizDkWYOACF",
        "outputId": "a92d3d44-0410-496c-cf42-c9ee15cad801"
      },
      "execution_count": 33,
      "outputs": [
        {
          "output_type": "stream",
          "name": "stdout",
          "text": [
            "Random Forest RMSE: 110.81805604088107\n",
            "R² Score: 0.9846729524047244\n"
          ]
        }
      ]
    },
    {
      "cell_type": "code",
      "source": [
        "#Gradient Boosting\n",
        "from sklearn.metrics import mean_squared_error, r2_score\n",
        "from math import sqrt\n",
        "\n",
        "gb = GradientBoostingRegressor(random_state=42)\n",
        "gb.fit(X_train, y_train)\n",
        "y_pred_gb = gb.predict(X_test)\n",
        "\n",
        "print(\"Gradient Boosting RMSE:\", sqrt(mean_squared_error(y_test, y_pred_gb)))\n",
        "print(\"R² Score:\", r2_score(y_test, y_pred_gb))\n"
      ],
      "metadata": {
        "colab": {
          "base_uri": "https://localhost:8080/"
        },
        "id": "rvLMXEExQMOF",
        "outputId": "c58219b2-b555-4207-c6a9-0e0bb5da138b"
      },
      "execution_count": 35,
      "outputs": [
        {
          "output_type": "stream",
          "name": "stdout",
          "text": [
            "Gradient Boosting RMSE: 112.12064472217678\n",
            "R² Score: 0.9843105173325878\n"
          ]
        }
      ]
    },
    {
      "cell_type": "code",
      "source": [
        "#SVM\n",
        "from sklearn.svm import SVR\n",
        "from sklearn.metrics import mean_squared_error, r2_score\n",
        "from math import sqrt\n",
        "\n",
        "svr = SVR()\n",
        "svr.fit(X_train, y_train)\n",
        "y_pred_svr = svr.predict(X_test)\n",
        "\n",
        "print(\"SVR RMSE:\", sqrt(mean_squared_error(y_test, y_pred_svr)))\n",
        "print(\"R² Score:\", r2_score(y_test, y_pred_svr))\n"
      ],
      "metadata": {
        "colab": {
          "base_uri": "https://localhost:8080/"
        },
        "id": "fCeXFDQaQic_",
        "outputId": "bd4c772b-0c66-4719-ec0d-5d7962ff431b"
      },
      "execution_count": 37,
      "outputs": [
        {
          "output_type": "stream",
          "name": "stdout",
          "text": [
            "SVR RMSE: 894.8422842471658\n",
            "R² Score: 0.0006204774041665972\n"
          ]
        }
      ]
    },
    {
      "cell_type": "code",
      "source": [
        "import matplotlib.pyplot as plt\n",
        "\n",
        "# Example: Actual vs Predicted\n",
        "plt.scatter(y_test, y_pred_rf)\n",
        "plt.xlabel(\"Actual Yield\")\n",
        "plt.ylabel(\"Predicted Yield\")\n",
        "plt.title(\"Random Forest: Actual vs Predicted\")\n",
        "plt.show()\n"
      ],
      "metadata": {
        "colab": {
          "base_uri": "https://localhost:8080/",
          "height": 472
        },
        "id": "3n2qmcXpQ2KF",
        "outputId": "0951fe68-ce9b-4986-c8f1-93326507ac35"
      },
      "execution_count": 38,
      "outputs": [
        {
          "output_type": "display_data",
          "data": {
            "text/plain": [
              "<Figure size 640x480 with 1 Axes>"
            ],
            "image/png": "[encoded data removed]"
          },
          "metadata": {}
        }
      ]
    },
    {
      "cell_type": "code",
      "source": [
        "#Classification Models :-\n",
        "\n",
        "#1. Sustainability Classification:\n",
        "#  Categorize sustainability score into High, Medium, Low\n",
        "df['Sustainability_Class'] = pd.qcut(df['Sustainability_Score'], q=3, labels=['Low', 'Medium', 'High'])\n",
        "\n",
        "#  Encode labels\n",
        "from sklearn.preprocessing import LabelEncoder\n",
        "le = LabelEncoder()\n",
        "df['Sustainability_Label'] = le.fit_transform(df['Sustainability_Class'])\n",
        "\n",
        "#  Features (reuse from earlier)\n",
        "X_cls = df[features].fillna(0)\n",
        "y_cls = df['Sustainability_Label']\n",
        "\n",
        "# Train/test split\n",
        "X_train_cls, X_test_cls, y_train_cls, y_test_cls = train_test_split(X_cls, y_cls, test_size=0.2, random_state=42)\n",
        "\n",
        "# Classifiers\n",
        "from sklearn.ensemble import RandomForestClassifier\n",
        "from sklearn.metrics import classification_report, confusion_matrix\n",
        "\n",
        "rf_cls = RandomForestClassifier(n_estimators=100, random_state=42)\n",
        "rf_cls.fit(X_train_cls, y_train_cls)\n",
        "y_pred_cls = rf_cls.predict(X_test_cls)\n",
        "\n",
        "print(\"Sustainability Classification Report:\")\n",
        "print(classification_report(y_test_cls, y_pred_cls, target_names=le.classes_))\n"
      ],
      "metadata": {
        "colab": {
          "base_uri": "https://localhost:8080/"
        },
        "id": "Hd9TFMEQjco0",
        "outputId": "4e4cb6a5-f2bd-4641-fb2f-dc4ad211389f"
      },
      "execution_count": 64,
      "outputs": [
        {
          "output_type": "stream",
          "name": "stdout",
          "text": [
            "Sustainability Classification Report:\n",
            "              precision    recall  f1-score   support\n",
            "\n",
            "        High       1.00      1.00      1.00      1326\n",
            "         Low       1.00      1.00      1.00      1277\n",
            "      Medium       1.00      1.00      1.00      1335\n",
            "\n",
            "    accuracy                           1.00      3938\n",
            "   macro avg       1.00      1.00      1.00      3938\n",
            "weighted avg       1.00      1.00      1.00      3938\n",
            "\n"
          ]
        }
      ]
    },
    {
      "cell_type": "code",
      "source": [
        "#2. Risk Assessment Model:-\n",
        "\n",
        "# Define risk level\n",
        "conditions = [\n",
        "    (df['Yield'] < df['Yield'].quantile(0.25)) & (df['Fertilizer_to_Yield_Ratio'] > 1.0),\n",
        "    (df['Yield'] > df['Yield'].quantile(0.75)),\n",
        "]\n",
        "choices = ['High Risk', 'Low Risk']\n",
        "df['Risk_Level'] = np.select(conditions, choices, default='Moderate Risk')\n",
        "\n",
        "# Encode and classify\n",
        "df['Risk_Label'] = le.fit_transform(df['Risk_Level'])\n",
        "X_risk = df[features].fillna(0)\n",
        "y_risk = df['Risk_Label']\n",
        "\n",
        "X_train_risk, X_test_risk, y_train_risk, y_test_risk = train_test_split(X_risk, y_risk, test_size=0.2, random_state=42)\n",
        "\n",
        "rf_risk = RandomForestClassifier(random_state=42)\n",
        "rf_risk.fit(X_train_risk, y_train_risk)\n",
        "y_pred_risk = rf_risk.predict(X_test_risk)\n",
        "\n",
        "print(\"Risk Assessment Report:\")\n",
        "print(classification_report(y_test_risk, y_pred_risk, target_names=le.classes_))\n"
      ],
      "metadata": {
        "colab": {
          "base_uri": "https://localhost:8080/"
        },
        "id": "OJ1bf397jxdi",
        "outputId": "57914bfc-3e99-4244-897f-4ce3deea5f9d"
      },
      "execution_count": 65,
      "outputs": [
        {
          "output_type": "stream",
          "name": "stdout",
          "text": [
            "Risk Assessment Report:\n",
            "               precision    recall  f1-score   support\n",
            "\n",
            "    High Risk       1.00      1.00      1.00       501\n",
            "     Low Risk       1.00      1.00      1.00       965\n",
            "Moderate Risk       1.00      1.00      1.00      2472\n",
            "\n",
            "     accuracy                           1.00      3938\n",
            "    macro avg       1.00      1.00      1.00      3938\n",
            " weighted avg       1.00      1.00      1.00      3938\n",
            "\n"
          ]
        }
      ]
    },
    {
      "cell_type": "code",
      "source": [
        "#Time Series Forecasting :-\n",
        "\n",
        "#1. ARIMA:\n",
        "from statsmodels.tsa.arima.model import ARIMA\n",
        "import matplotlib.pyplot as plt\n",
        "\n",
        "# Ensure time series: sort by year (if exists)\n",
        "if 'Year' in df.columns:\n",
        "    df.sort_values('Year', inplace=True)\n",
        "\n",
        "# Use a single region or total production\n",
        "if group_col:\n",
        "    region_df = df[df[group_col] == df[group_col].unique()[0]]\n",
        "else:\n",
        "    region_df = df.copy()\n",
        "\n",
        "prod_series = region_df['Production'].dropna()\n",
        "\n",
        "# Fit ARIMA\n",
        "model = ARIMA(prod_series, order=(2,1,2))  # p,d,q\n",
        "arima_result = model.fit()\n",
        "forecast = arima_result.forecast(steps=5)\n",
        "\n",
        "# Plot\n",
        "plt.plot(prod_series, label=\"Historical\")\n",
        "plt.plot(range(len(prod_series), len(prod_series)+5), forecast, label=\"Forecast\")\n",
        "plt.title(\"📉 ARIMA Production Forecast\")\n",
        "plt.legend()\n",
        "plt.show()\n"
      ],
      "metadata": {
        "colab": {
          "base_uri": "https://localhost:8080/",
          "height": 487
        },
        "id": "v-HX_TcMj9iH",
        "outputId": "480889e7-c6df-46dd-8253-dd731d850642"
      },
      "execution_count": 66,
      "outputs": [
        {
          "output_type": "stream",
          "name": "stderr",
          "text": [
            "/usr/local/lib/python3.11/dist-packages/IPython/core/pylabtools.py:151: UserWarning: Glyph 128201 (\\N{CHART WITH DOWNWARDS TREND}) missing from font(s) DejaVu Sans.\n",
            "  fig.canvas.print_figure(bytes_io, **kw)\n"
          ]
        },
        {
          "output_type": "display_data",
          "data": {
            "text/plain": [
              "<Figure size 640x480 with 1 Axes>"
            ],
            "image/png": "[encoded data removed]"
          },
          "metadata": {}
        }
      ]
    },
    {
      "cell_type": "code",
      "source": [
        "#2. Prophet Trend Forecasting:\n",
        "\n",
        "import pandas as pd\n",
        "from prophet import Prophet\n",
        "import matplotlib.pyplot as plt\n",
        "\n",
        "# Load dataset\n",
        "df = pd.read_csv('/content/crop_yield.csv')\n",
        "\n",
        "# Check if 'Production' column exists\n",
        "if 'Production' not in df.columns:\n",
        "    raise ValueError(\" 'Production' column not found in the dataset!\")\n",
        "\n",
        "# Check if 'Year' column exists and is usable\n",
        "if 'Year' in df.columns:\n",
        "    df_prophet = df[['Year', 'Production']].dropna()\n",
        "    df_prophet['ds'] = pd.to_datetime(df_prophet['Year'], format='%Y')\n",
        "    df_prophet = df_prophet.rename(columns={'Production': 'y'})[['ds', 'y']]\n",
        "else:\n",
        "    # Use a fixed start year and generate realistic dates\n",
        "    N = len(df)\n",
        "    MAX_YEARS = 50  # prevent huge date ranges\n",
        "    safe_N = min(N, MAX_YEARS)\n",
        "\n",
        "    df_prophet = pd.DataFrame({\n",
        "        'ds': pd.date_range(start='2000', periods=safe_N, freq='YE'),\n",
        "        'y': df['Production'].fillna(method='ffill').values[:safe_N]\n",
        "    })\n",
        "\n",
        "# Fit the Prophet model\n",
        "model = Prophet()\n",
        "model.fit(df_prophet)\n",
        "\n",
        "# Forecast next 5 years\n",
        "future = model.make_future_dataframe(periods=5, freq='Y')\n",
        "forecast = model.predict(future)\n",
        "\n",
        "# Plot the results\n",
        "fig = model.plot(forecast)\n",
        "plt.title(\"Prophet Forecast: Production\")\n",
        "plt.show()\n",
        "\n"
      ],
      "metadata": {
        "colab": {
          "base_uri": "https://localhost:8080/",
          "height": 894
        },
        "id": "wuNAKl5BkdMr",
        "outputId": "2940fd5a-0ad2-4bdd-89f8-d13f245c51b0"
      },
      "execution_count": 3,
      "outputs": [
        {
          "output_type": "stream",
          "name": "stderr",
          "text": [
            "<ipython-input-3-1524219565>:27: FutureWarning: Series.fillna with 'method' is deprecated and will raise in a future version. Use obj.ffill() or obj.bfill() instead.\n",
            "  'y': df['Production'].fillna(method='ffill').values[:safe_N]\n",
            "INFO:prophet:Disabling weekly seasonality. Run prophet with weekly_seasonality=True to override this.\n",
            "INFO:prophet:Disabling daily seasonality. Run prophet with daily_seasonality=True to override this.\n",
            "DEBUG:cmdstanpy:input tempfile: /tmp/tmpwoylhe7u/a9snxdc5.json\n",
            "DEBUG:cmdstanpy:input tempfile: /tmp/tmpwoylhe7u/0pu2dyjq.json\n",
            "DEBUG:cmdstanpy:idx 0\n",
            "DEBUG:cmdstanpy:running CmdStan, num_threads: None\n",
            "DEBUG:cmdstanpy:CmdStan args: ['/usr/local/lib/python3.11/dist-packages/prophet/stan_model/prophet_model.bin', 'random', 'seed=86963', 'data', 'file=/tmp/tmpwoylhe7u/a9snxdc5.json', 'init=/tmp/tmpwoylhe7u/0pu2dyjq.json', 'output', 'file=/tmp/tmpwoylhe7u/prophet_modeld077kntu/prophet_model-20250616091155.csv', 'method=optimize', 'algorithm=newton', 'iter=10000']\n",
            "09:11:55 - cmdstanpy - INFO - Chain [1] start processing\n",
            "INFO:cmdstanpy:Chain [1] start processing\n",
            "09:11:55 - cmdstanpy - INFO - Chain [1] done processing\n",
            "INFO:cmdstanpy:Chain [1] done processing\n",
            "/usr/local/lib/python3.11/dist-packages/prophet/forecaster.py:1872: FutureWarning: 'Y' is deprecated and will be removed in a future version, please use 'YE' instead.\n",
            "  dates = pd.date_range(\n"
          ]
        },
        {
          "output_type": "display_data",
          "data": {
            "text/plain": [
              "<Figure size 1000x600 with 1 Axes>"
            ],
            "image/png": "[encoded data removed]"
          },
          "metadata": {}
        }
      ]
    },
    {
      "cell_type": "code",
      "source": [
        "import pandas as pd\n",
        "import numpy as np\n",
        "import matplotlib.pyplot as plt\n",
        "from sklearn.preprocessing import MinMaxScaler\n",
        "from tensorflow.keras.models import Sequential\n",
        "from tensorflow.keras.layers import LSTM, Dense\n",
        "\n",
        "# Load dataset\n",
        "df = pd.read_csv('/content/crop_yield.csv')\n",
        "\n",
        "# Check 'Production' column\n",
        "if 'Production' not in df.columns:\n",
        "    raise ValueError(\" 'Production' column not found!\")\n",
        "\n",
        "# Fill missing values if any\n",
        "data = df['Production'].fillna(method='ffill').values.reshape(-1, 1)\n",
        "\n",
        "# Normalize\n",
        "scaler = MinMaxScaler()\n",
        "data_scaled = scaler.fit_transform(data)\n",
        "\n",
        "# Create sequences for LSTM\n",
        "def create_sequences(data, seq_length):\n",
        "    X, y = [], []\n",
        "    for i in range(len(data) - seq_length):\n",
        "        X.append(data[i:i+seq_length])\n",
        "        y.append(data[i+seq_length])\n",
        "    return np.array(X), np.array(y)\n",
        "\n",
        "SEQ_LENGTH = 5\n",
        "X, y = create_sequences(data_scaled, SEQ_LENGTH)\n",
        "\n",
        "# Train/test split\n",
        "split = int(len(X) * 0.8)\n",
        "X_train, X_test = X[:split], X[split:]\n",
        "y_train, y_test = y[:split], y[split:]\n",
        "\n",
        "# Reshape: [samples, time_steps, features]\n",
        "print(f\"Shape: X_train = {X_train.shape}, y_train = {y_train.shape}\")\n",
        "\n",
        "# Build LSTM model\n",
        "model = Sequential([\n",
        "    LSTM(64, activation='relu', input_shape=(SEQ_LENGTH, 1)),\n",
        "    Dense(1)\n",
        "])\n",
        "model.compile(optimizer='adam', loss='mse')\n",
        "model.fit(X_train, y_train, epochs=50, batch_size=8, verbose=1)\n",
        "\n",
        "# Predict\n",
        "y_pred = model.predict(X_test)\n",
        "y_pred_inv = scaler.inverse_transform(y_pred)\n",
        "y_test_inv = scaler.inverse_transform(y_test.reshape(-1, 1))\n",
        "\n",
        "# Plot\n",
        "plt.figure(figsize=(10, 6))\n",
        "plt.plot(y_test_inv, label='Actual')\n",
        "plt.plot(y_pred_inv, label='Predicted')\n",
        "plt.title(\"📈 LSTM Forecast: Production\")\n",
        "plt.xlabel(\"Time\")\n",
        "plt.ylabel(\"Production\")\n",
        "plt.legend()\n",
        "plt.show()\n"
      ],
      "metadata": {
        "colab": {
          "base_uri": "https://localhost:8080/",
          "height": 1000
        },
        "id": "9enZUJ26BBwG",
        "outputId": "1a29ee91-e784-4531-a627-7dfc7ee62256"
      },
      "execution_count": 4,
      "outputs": [
        {
          "output_type": "stream",
          "name": "stdout",
          "text": [
            "Shape: X_train = (15747, 5, 1), y_train = (15747, 1)\n",
            "Epoch 1/50\n"
          ]
        },
        {
          "output_type": "stream",
          "name": "stderr",
          "text": [
            "<ipython-input-4-4109782882>:16: FutureWarning: Series.fillna with 'method' is deprecated and will raise in a future version. Use obj.ffill() or obj.bfill() instead.\n",
            "  data = df['Production'].fillna(method='ffill').values.reshape(-1, 1)\n",
            "/usr/local/lib/python3.11/dist-packages/keras/src/layers/rnn/rnn.py:200: UserWarning: Do not pass an `input_shape`/`input_dim` argument to a layer. When using Sequential models, prefer using an `Input(shape)` object as the first layer in the model instead.\n",
            "  super().__init__(**kwargs)\n"
          ]
        },
        {
          "output_type": "stream",
          "name": "stdout",
          "text": [
            "\u001b[1m1969/1969\u001b[0m \u001b[32m━━━━━━━━━━━━━━━━━━━━\u001b[0m\u001b[37m\u001b[0m \u001b[1m9s\u001b[0m 4ms/step - loss: 0.0026\n",
            "Epoch 2/50\n",
            "\u001b[1m1969/1969\u001b[0m \u001b[32m━━━━━━━━━━━━━━━━━━━━\u001b[0m\u001b[37m\u001b[0m \u001b[1m6s\u001b[0m 3ms/step - loss: 0.0025\n",
            "Epoch 3/50\n",
            "\u001b[1m1969/1969\u001b[0m \u001b[32m━━━━━━━━━━━━━━━━━━━━\u001b[0m\u001b[37m\u001b[0m \u001b[1m7s\u001b[0m 4ms/step - loss: 0.0025\n",
            "Epoch 4/50\n",
            "\u001b[1m1969/1969\u001b[0m \u001b[32m━━━━━━━━━━━━━━━━━━━━\u001b[0m\u001b[37m\u001b[0m \u001b[1m7s\u001b[0m 4ms/step - loss: 0.0021\n",
            "Epoch 5/50\n",
            "\u001b[1m1969/1969\u001b[0m \u001b[32m━━━━━━━━━━━━━━━━━━━━\u001b[0m\u001b[37m\u001b[0m \u001b[1m10s\u001b[0m 3ms/step - loss: 0.0026\n",
            "Epoch 6/50\n",
            "\u001b[1m1969/1969\u001b[0m \u001b[32m━━━━━━━━━━━━━━━━━━━━\u001b[0m\u001b[37m\u001b[0m \u001b[1m7s\u001b[0m 4ms/step - loss: 0.0019\n",
            "Epoch 7/50\n",
            "\u001b[1m1969/1969\u001b[0m \u001b[32m━━━━━━━━━━━━━━━━━━━━\u001b[0m\u001b[37m\u001b[0m \u001b[1m7s\u001b[0m 3ms/step - loss: 0.0021\n",
            "Epoch 8/50\n",
            "\u001b[1m1969/1969\u001b[0m \u001b[32m━━━━━━━━━━━━━━━━━━━━\u001b[0m\u001b[37m\u001b[0m \u001b[1m10s\u001b[0m 3ms/step - loss: 0.0017\n",
            "Epoch 9/50\n",
            "\u001b[1m1969/1969\u001b[0m \u001b[32m━━━━━━━━━━━━━━━━━━━━\u001b[0m\u001b[37m\u001b[0m \u001b[1m10s\u001b[0m 3ms/step - loss: 0.0021\n",
            "Epoch 10/50\n",
            "\u001b[1m1969/1969\u001b[0m \u001b[32m━━━━━━━━━━━━━━━━━━━━\u001b[0m\u001b[37m\u001b[0m \u001b[1m11s\u001b[0m 4ms/step - loss: 0.0018\n",
            "Epoch 11/50\n",
            "\u001b[1m1969/1969\u001b[0m \u001b[32m━━━━━━━━━━━━━━━━━━━━\u001b[0m\u001b[37m\u001b[0m \u001b[1m7s\u001b[0m 4ms/step - loss: 0.0020\n",
            "Epoch 12/50\n",
            "\u001b[1m1969/1969\u001b[0m \u001b[32m━━━━━━━━━━━━━━━━━━━━\u001b[0m\u001b[37m\u001b[0m \u001b[1m9s\u001b[0m 3ms/step - loss: 0.0017\n",
            "Epoch 13/50\n",
            "\u001b[1m1969/1969\u001b[0m \u001b[32m━━━━━━━━━━━━━━━━━━━━\u001b[0m\u001b[37m\u001b[0m \u001b[1m7s\u001b[0m 4ms/step - loss: 0.0022\n",
            "Epoch 14/50\n",
            "\u001b[1m1969/1969\u001b[0m \u001b[32m━━━━━━━━━━━━━━━━━━━━\u001b[0m\u001b[37m\u001b[0m \u001b[1m7s\u001b[0m 4ms/step - loss: 0.0027\n",
            "Epoch 15/50\n",
            "\u001b[1m1969/1969\u001b[0m \u001b[32m━━━━━━━━━━━━━━━━━━━━\u001b[0m\u001b[37m\u001b[0m \u001b[1m7s\u001b[0m 3ms/step - loss: 0.0018\n",
            "Epoch 16/50\n",
            "\u001b[1m1969/1969\u001b[0m \u001b[32m━━━━━━━━━━━━━━━━━━━━\u001b[0m\u001b[37m\u001b[0m \u001b[1m11s\u001b[0m 4ms/step - loss: 0.0022\n",
            "Epoch 17/50\n",
            "\u001b[1m1969/1969\u001b[0m \u001b[32m━━━━━━━━━━━━━━━━━━━━\u001b[0m\u001b[37m\u001b[0m \u001b[1m10s\u001b[0m 4ms/step - loss: 0.0022\n",
            "Epoch 18/50\n",
            "\u001b[1m1969/1969\u001b[0m \u001b[32m━━━━━━━━━━━━━━━━━━━━\u001b[0m\u001b[37m\u001b[0m \u001b[1m7s\u001b[0m 3ms/step - loss: 0.0020\n",
            "Epoch 19/50\n",
            "\u001b[1m1969/1969\u001b[0m \u001b[32m━━━━━━━━━━━━━━━━━━━━\u001b[0m\u001b[37m\u001b[0m \u001b[1m7s\u001b[0m 4ms/step - loss: 0.0021\n",
            "Epoch 20/50\n",
            "\u001b[1m1969/1969\u001b[0m \u001b[32m━━━━━━━━━━━━━━━━━━━━\u001b[0m\u001b[37m\u001b[0m \u001b[1m11s\u001b[0m 5ms/step - loss: 0.0024\n",
            "Epoch 21/50\n",
            "\u001b[1m1969/1969\u001b[0m \u001b[32m━━━━━━━━━━━━━━━━━━━━\u001b[0m\u001b[37m\u001b[0m \u001b[1m6s\u001b[0m 3ms/step - loss: 0.0022\n",
            "Epoch 22/50\n",
            "\u001b[1m1969/1969\u001b[0m \u001b[32m━━━━━━━━━━━━━━━━━━━━\u001b[0m\u001b[37m\u001b[0m \u001b[1m10s\u001b[0m 3ms/step - loss: 0.0019\n",
            "Epoch 23/50\n",
            "\u001b[1m1969/1969\u001b[0m \u001b[32m━━━━━━━━━━━━━━━━━━━━\u001b[0m\u001b[37m\u001b[0m \u001b[1m8s\u001b[0m 4ms/step - loss: 0.0019\n",
            "Epoch 24/50\n",
            "\u001b[1m1969/1969\u001b[0m \u001b[32m━━━━━━━━━━━━━━━━━━━━\u001b[0m\u001b[37m\u001b[0m \u001b[1m6s\u001b[0m 3ms/step - loss: 0.0023\n",
            "Epoch 25/50\n",
            "\u001b[1m1969/1969\u001b[0m \u001b[32m━━━━━━━━━━━━━━━━━━━━\u001b[0m\u001b[37m\u001b[0m \u001b[1m7s\u001b[0m 4ms/step - loss: 0.0024\n",
            "Epoch 26/50\n",
            "\u001b[1m1969/1969\u001b[0m \u001b[32m━━━━━━━━━━━━━━━━━━━━\u001b[0m\u001b[37m\u001b[0m \u001b[1m6s\u001b[0m 3ms/step - loss: 0.0024\n",
            "Epoch 27/50\n",
            "\u001b[1m1969/1969\u001b[0m \u001b[32m━━━━━━━━━━━━━━━━━━━━\u001b[0m\u001b[37m\u001b[0m \u001b[1m7s\u001b[0m 4ms/step - loss: 0.0021\n",
            "Epoch 28/50\n",
            "\u001b[1m1969/1969\u001b[0m \u001b[32m━━━━━━━━━━━━━━━━━━━━\u001b[0m\u001b[37m\u001b[0m \u001b[1m10s\u001b[0m 4ms/step - loss: 0.0030\n",
            "Epoch 29/50\n",
            "\u001b[1m1969/1969\u001b[0m \u001b[32m━━━━━━━━━━━━━━━━━━━━\u001b[0m\u001b[37m\u001b[0m \u001b[1m7s\u001b[0m 3ms/step - loss: 0.0019\n",
            "Epoch 30/50\n",
            "\u001b[1m1969/1969\u001b[0m \u001b[32m━━━━━━━━━━━━━━━━━━━━\u001b[0m\u001b[37m\u001b[0m \u001b[1m10s\u001b[0m 3ms/step - loss: 0.0024\n",
            "Epoch 31/50\n",
            "\u001b[1m1969/1969\u001b[0m \u001b[32m━━━━━━━━━━━━━━━━━━━━\u001b[0m\u001b[37m\u001b[0m \u001b[1m7s\u001b[0m 4ms/step - loss: 0.0024\n",
            "Epoch 32/50\n",
            "\u001b[1m1969/1969\u001b[0m \u001b[32m━━━━━━━━━━━━━━━━━━━━\u001b[0m\u001b[37m\u001b[0m \u001b[1m9s\u001b[0m 3ms/step - loss: 0.0020\n",
            "Epoch 33/50\n",
            "\u001b[1m1969/1969\u001b[0m \u001b[32m━━━━━━━━━━━━━━━━━━━━\u001b[0m\u001b[37m\u001b[0m \u001b[1m8s\u001b[0m 4ms/step - loss: 0.0018\n",
            "Epoch 34/50\n",
            "\u001b[1m1969/1969\u001b[0m \u001b[32m━━━━━━━━━━━━━━━━━━━━\u001b[0m\u001b[37m\u001b[0m \u001b[1m10s\u001b[0m 4ms/step - loss: 0.0025\n",
            "Epoch 35/50\n",
            "\u001b[1m1969/1969\u001b[0m \u001b[32m━━━━━━━━━━━━━━━━━━━━\u001b[0m\u001b[37m\u001b[0m \u001b[1m10s\u001b[0m 4ms/step - loss: 0.0023\n",
            "Epoch 36/50\n",
            "\u001b[1m1969/1969\u001b[0m \u001b[32m━━━━━━━━━━━━━━━━━━━━\u001b[0m\u001b[37m\u001b[0m \u001b[1m7s\u001b[0m 3ms/step - loss: 0.0023\n",
            "Epoch 37/50\n",
            "\u001b[1m1969/1969\u001b[0m \u001b[32m━━━━━━━━━━━━━━━━━━━━\u001b[0m\u001b[37m\u001b[0m \u001b[1m11s\u001b[0m 4ms/step - loss: 0.0018\n",
            "Epoch 38/50\n",
            "\u001b[1m1969/1969\u001b[0m \u001b[32m━━━━━━━━━━━━━━━━━━━━\u001b[0m\u001b[37m\u001b[0m \u001b[1m7s\u001b[0m 4ms/step - loss: 0.0023\n",
            "Epoch 39/50\n",
            "\u001b[1m1969/1969\u001b[0m \u001b[32m━━━━━━━━━━━━━━━━━━━━\u001b[0m\u001b[37m\u001b[0m \u001b[1m9s\u001b[0m 3ms/step - loss: 0.0021\n",
            "Epoch 40/50\n",
            "\u001b[1m1969/1969\u001b[0m \u001b[32m━━━━━━━━━━━━━━━━━━━━\u001b[0m\u001b[37m\u001b[0m \u001b[1m8s\u001b[0m 4ms/step - loss: 0.0024\n",
            "Epoch 41/50\n",
            "\u001b[1m1969/1969\u001b[0m \u001b[32m━━━━━━━━━━━━━━━━━━━━\u001b[0m\u001b[37m\u001b[0m \u001b[1m7s\u001b[0m 4ms/step - loss: 0.0022\n",
            "Epoch 42/50\n",
            "\u001b[1m1969/1969\u001b[0m \u001b[32m━━━━━━━━━━━━━━━━━━━━\u001b[0m\u001b[37m\u001b[0m \u001b[1m10s\u001b[0m 3ms/step - loss: 0.0014\n",
            "Epoch 43/50\n",
            "\u001b[1m1969/1969\u001b[0m \u001b[32m━━━━━━━━━━━━━━━━━━━━\u001b[0m\u001b[37m\u001b[0m \u001b[1m8s\u001b[0m 4ms/step - loss: 0.0022\n",
            "Epoch 44/50\n",
            "\u001b[1m1969/1969\u001b[0m \u001b[32m━━━━━━━━━━━━━━━━━━━━\u001b[0m\u001b[37m\u001b[0m \u001b[1m7s\u001b[0m 3ms/step - loss: 0.0024\n",
            "Epoch 45/50\n",
            "\u001b[1m1969/1969\u001b[0m \u001b[32m━━━━━━━━━━━━━━━━━━━━\u001b[0m\u001b[37m\u001b[0m \u001b[1m10s\u001b[0m 3ms/step - loss: 0.0024\n",
            "Epoch 46/50\n",
            "\u001b[1m1969/1969\u001b[0m \u001b[32m━━━━━━━━━━━━━━━━━━━━\u001b[0m\u001b[37m\u001b[0m \u001b[1m8s\u001b[0m 4ms/step - loss: 0.0023\n",
            "Epoch 47/50\n",
            "\u001b[1m1969/1969\u001b[0m \u001b[32m━━━━━━━━━━━━━━━━━━━━\u001b[0m\u001b[37m\u001b[0m \u001b[1m7s\u001b[0m 3ms/step - loss: 0.0021\n",
            "Epoch 48/50\n",
            "\u001b[1m1969/1969\u001b[0m \u001b[32m━━━━━━━━━━━━━━━━━━━━\u001b[0m\u001b[37m\u001b[0m \u001b[1m7s\u001b[0m 4ms/step - loss: 0.0020\n",
            "Epoch 49/50\n",
            "\u001b[1m1969/1969\u001b[0m \u001b[32m━━━━━━━━━━━━━━━━━━━━\u001b[0m\u001b[37m\u001b[0m \u001b[1m10s\u001b[0m 4ms/step - loss: 0.0019\n",
            "Epoch 50/50\n",
            "\u001b[1m1969/1969\u001b[0m \u001b[32m━━━━━━━━━━━━━━━━━━━━\u001b[0m\u001b[37m\u001b[0m \u001b[1m7s\u001b[0m 3ms/step - loss: 0.0018\n",
            "\u001b[1m124/124\u001b[0m \u001b[32m━━━━━━━━━━━━━━━━━━━━\u001b[0m\u001b[37m\u001b[0m \u001b[1m1s\u001b[0m 3ms/step\n"
          ]
        },
        {
          "output_type": "stream",
          "name": "stderr",
          "text": [
            "/usr/local/lib/python3.11/dist-packages/IPython/core/pylabtools.py:151: UserWarning: Glyph 128200 (\\N{CHART WITH UPWARDS TREND}) missing from font(s) DejaVu Sans.\n",
            "  fig.canvas.print_figure(bytes_io, **kw)\n"
          ]
        },
        {
          "output_type": "display_data",
          "data": {
            "text/plain": [
              "<Figure size 1000x600 with 1 Axes>"
            ],
            "image/png": "[encoded data removed]"
          },
          "metadata": {}
        }
      ]
    },
    {
      "cell_type": "code",
      "source": [
        "from sklearn.linear_model import LinearRegression\n",
        "import numpy as np\n",
        "import matplotlib.pyplot as plt"
      ],
      "metadata": {
        "id": "zoZDWoD0DzK7"
      },
      "execution_count": 7,
      "outputs": []
    },
    {
      "cell_type": "code",
      "source": [
        "# Check required columns\n",
        "if 'Yield' in df.columns and 'Fertilizer_Used' in df.columns:\n",
        "    df_opt = df[['Fertilizer_Used', 'Yield']].dropna()\n",
        "    X = df_opt[['Fertilizer_Used']]\n",
        "    y = df_opt['Yield']"
      ],
      "metadata": {
        "id": "x-NMKtp0EH_u"
      },
      "execution_count": 8,
      "outputs": []
    },
    {
      "cell_type": "code",
      "source": [
        "# Step 1: Fertilizer Optimization Model:-\n",
        "\n",
        "# Fit linear model\n",
        "from sklearn.linear_model import LinearRegression\n",
        "import numpy as np\n",
        "import matplotlib.pyplot as plt\n",
        "\n",
        "#  Fertilizer Optimization\n",
        "if 'Yield' in df.columns and 'Fertilizer_Used' in df.columns:\n",
        "    df_opt = df[['Fertilizer_Used', 'Yield']].dropna()\n",
        "    X = df_opt[['Fertilizer_Used']]\n",
        "    y = df_opt['Yield']\n",
        "\n",
        "    # Fit linear model\n",
        "    model = LinearRegression()\n",
        "    model.fit(X, y)\n",
        "\n",
        "    # Predict over range of fertilizer use\n",
        "    fert_range = np.linspace(X.min(), X.max(), 100).reshape(-1, 1)\n",
        "    predicted_yield = model.predict(fert_range)\n",
        "\n",
        "    # Plot\n",
        "    plt.figure(figsize=(8, 5))\n",
        "    plt.scatter(X, y, label=\"Observed Data\", color='blue')\n",
        "    plt.plot(fert_range, predicted_yield, color='green', label=\"Model Prediction\")\n",
        "    plt.xlabel(\"Fertilizer Used\")\n",
        "    plt.ylabel(\"Yield\")\n",
        "    plt.title(\"Fertilizer vs Yield Optimization\")\n",
        "    plt.legend()\n",
        "    plt.grid(True)\n",
        "    plt.show()\n",
        "else:\n",
        "    print(\"Required columns 'Fertilizer_Used' and/or 'Yield' not found in the dataset.\")\n",
        "\n",
        "\n",
        ""
      ],
      "metadata": {
        "colab": {
          "base_uri": "https://localhost:8080/"
        },
        "id": "LuAwd-Z8EMGB",
        "outputId": "19f47ddd-79a3-4f90-99f7-7dad720e311b"
      },
      "execution_count": 11,
      "outputs": [
        {
          "output_type": "stream",
          "name": "stdout",
          "text": [
            "Required columns 'Fertilizer_Used' and/or 'Yield' not found in the dataset.\n"
          ]
        }
      ]
    },
    {
      "cell_type": "code",
      "source": [
        "#Multi-objective Optimization (Yield vs Sustainability):-\n",
        "\n",
        "from sklearn.preprocessing import MinMaxScaler\n",
        "import matplotlib.pyplot as plt\n",
        "\n",
        "# Check required columns\n",
        "required_cols = ['Yield', 'Sustainability_Score']\n",
        "if all(col in df.columns for col in required_cols):\n",
        "    # Drop missing values\n",
        "    df_opt = df[required_cols].dropna()\n",
        "\n",
        "    # Normalize the features\n",
        "    scaler = MinMaxScaler()\n",
        "    scaled = scaler.fit_transform(df_opt)\n",
        "\n",
        "    # Add back to DataFrame\n",
        "    df_opt_scaled = pd.DataFrame(scaled, columns=required_cols)\n",
        "\n",
        "    # Plot Pareto frontier (Yield vs Sustainability)\n",
        "    plt.figure(figsize=(8, 6))\n",
        "    plt.scatter(df_opt_scaled['Yield'], df_opt_scaled['Sustainability_Score'], color='purple')\n",
        "    plt.xlabel(\"Normalized Yield\")\n",
        "    plt.ylabel(\"Normalized Sustainability Score\")\n",
        "    plt.title(\"Pareto Frontier: Yield vs Sustainability\")\n",
        "    plt.grid(True)\n",
        "    plt.show()\n",
        "else:\n",
        "    print(\"One or both of the columns ['Yield', 'Sustainability_Score'] are missing.\")\n"
      ],
      "metadata": {
        "colab": {
          "base_uri": "https://localhost:8080/"
        },
        "id": "keaba9tVMUsr",
        "outputId": "22a337d1-dc43-4bbd-f577-c982fac5dad1"
      },
      "execution_count": 16,
      "outputs": [
        {
          "output_type": "stream",
          "name": "stdout",
          "text": [
            "One or both of the columns ['Yield', 'Sustainability_Score'] are missing.\n"
          ]
        }
      ]
    },
    {
      "cell_type": "code",
      "source": [
        "#Crop Recommendation System:-\n",
        "\n",
        "# Dummy logic: group by region and recommend top crop\n",
        "if 'Region' in df.columns and 'Crop' in df.columns:\n",
        "    crop_reco = df.groupby('Region')['Crop'].agg(lambda x: x.value_counts().idxmax())\n",
        "    print(\"Recommended Crop by Region:\\n\", crop_reco)\n"
      ],
      "metadata": {
        "id": "MsDPcvkEMnPf"
      },
      "execution_count": 19,
      "outputs": []
    },
    {
      "cell_type": "code",
      "source": [
        "#Optimal Input Recommendation:-\n",
        "\n",
        "from scipy.optimize import linprog\n",
        "\n",
        "# Example: minimize cost subject to constraints on yield and resource limits\n",
        "\n",
        "# Objective: Minimize total cost = cost_fert * x + cost_water * y\n",
        "cost_fert = 50  # cost per unit fertilizer\n",
        "cost_water = 30  # cost per unit water\n",
        "\n",
        "c = [cost_fert, cost_water]  # Coefficients for the cost function\n",
        "\n",
        "# Constraints\n",
        "# Example constraint: a * x + b * y >= target_yield\n",
        "# We'll convert it to: -a * x - b * y <= -target_yield (linprog requires <=)\n",
        "a = 0.8  # yield contribution per unit fertilizer\n",
        "b = 0.5  # yield contribution per unit water\n",
        "target_yield = 3.5  # example tons per hectare\n",
        "\n",
        "A = [[-a, -b]]  # inequality coefficients\n",
        "b_ub = [-target_yield]  # upper bound for inequality\n",
        "\n",
        "# Add resource constraints (e.g., max fertilizer = 10, max water = 15)\n",
        "A += [[1, 0], [0, 1]]\n",
        "b_ub += [10, 15]\n",
        "\n",
        "# Bounds for each variable: (min, max)\n",
        "x_bounds = (0, None)\n",
        "y_bounds = (0, None)\n",
        "\n",
        "# Solve\n",
        "result = linprog(c, A_ub=A, b_ub=b_ub, bounds=[x_bounds, y_bounds], method='highs')\n",
        "\n",
        "# Output\n",
        "if result.success:\n",
        "    print(\"Optimal solution found:\")\n",
        "    print(f\"Fertilizer used: {result.x[0]:.2f} units\")\n",
        "    print(f\"Water used: {result.x[1]:.2f} units\")\n",
        "    print(f\"Total cost: ₹{result.fun:.2f}\")\n",
        "else:\n",
        "    print(\"Optimization failed:\", result.message)\n"
      ],
      "metadata": {
        "colab": {
          "base_uri": "https://localhost:8080/"
        },
        "id": "0skR9bvnNTP-",
        "outputId": "2811b10b-2b0b-412f-9d49-257d6ab8e3ea"
      },
      "execution_count": 24,
      "outputs": [
        {
          "output_type": "stream",
          "name": "stdout",
          "text": [
            "Optimal solution found:\n",
            "Fertilizer used: 0.00 units\n",
            "Water used: 7.00 units\n",
            "Total cost: ₹210.00\n"
          ]
        }
      ]
    },
    {
      "cell_type": "code",
      "source": [
        "#Model Validation & Interpretation:-\n",
        "\n",
        "\n",
        "# 1. Cross-Validation Strategies\n",
        "from sklearn.ensemble import RandomForestRegressor\n",
        "from sklearn.model_selection import cross_val_score, KFold\n",
        "\n",
        "# Drop very high-cardinality columns manually if needed (e.g., 'Crop')\n",
        "X = df.drop(columns=['Yield', 'Crop'])  # replace with actual column names\n",
        "X = pd.get_dummies(X, drop_first=True)\n",
        "y = df['Yield']\n",
        "\n",
        "model = RandomForestRegressor(n_estimators=50, random_state=42)\n",
        "kf = KFold(n_splits=5, shuffle=True, random_state=42)\n",
        "\n",
        "scores = cross_val_score(model, X, y, cv=kf, scoring='r2', n_jobs=-1)\n",
        "print(\"R² Scores:\", scores)\n",
        "print(\"Mean R²:\", scores.mean())\n"
      ],
      "metadata": {
        "colab": {
          "base_uri": "https://localhost:8080/"
        },
        "id": "-0-Q-Y4uP2p2",
        "outputId": "7688f34d-6b1b-4739-f871-056fafc86159"
      },
      "execution_count": 41,
      "outputs": [
        {
          "output_type": "stream",
          "name": "stdout",
          "text": [
            "R² Scores: [0.90258559 0.92178177 0.98412103 0.9897097  0.98245361]\n",
            "Mean R²: 0.9561303397780495\n"
          ]
        }
      ]
    },
    {
      "cell_type": "code",
      "source": [
        "# 2. Feature Importance Analysis\n",
        "\n",
        "model.fit(X, y)\n",
        "importances = model.feature_importances_\n",
        "\n",
        "feature_importance = pd.Series(importances, index=X.columns).sort_values(ascending=False)\n",
        "print(feature_importance)\n",
        "\n",
        "# plot\n",
        "import matplotlib.pyplot as plt\n",
        "feature_importance.plot(kind='bar', title='Feature Importances')\n",
        "plt.ylabel('Importance Score')\n",
        "plt.show()\n"
      ],
      "metadata": {
        "colab": {
          "base_uri": "https://localhost:8080/",
          "height": 1000
        },
        "id": "m4ECMogfRaLv",
        "outputId": "150e79c7-0964-453b-ad06-9820fa2fc90c"
      },
      "execution_count": 42,
      "outputs": [
        {
          "output_type": "stream",
          "name": "stdout",
          "text": [
            "Production                 7.262007e-01\n",
            "Area                       9.669275e-02\n",
            "Pesticide                  6.134671e-02\n",
            "Fertilizer                 5.002452e-02\n",
            "State_Puducherry           1.734084e-02\n",
            "Annual_Rainfall            1.379093e-02\n",
            "State_Telangana            1.092052e-02\n",
            "State_Karnataka            5.535961e-03\n",
            "State_West Bengal          4.816906e-03\n",
            "Crop_Year                  4.447412e-03\n",
            "Season_Whole Year          3.122847e-03\n",
            "State_Tamil Nadu           3.103592e-03\n",
            "State_Assam                1.213942e-03\n",
            "State_Goa                  4.544139e-04\n",
            "Season_Kharif              3.677226e-04\n",
            "State_Uttar Pradesh        3.401419e-04\n",
            "State_Kerala               2.655360e-04\n",
            "State_Delhi                8.832963e-06\n",
            "Season_Rabi                2.849613e-06\n",
            "State_Maharashtra          7.870912e-07\n",
            "State_Manipur              7.453833e-07\n",
            "State_Gujarat              2.797282e-07\n",
            "State_Haryana              2.752092e-07\n",
            "Season_Winter              1.588140e-07\n",
            "State_Jharkhand            1.311582e-07\n",
            "State_Madhya Pradesh       1.158560e-07\n",
            "State_Chhattisgarh         1.029697e-07\n",
            "State_Odisha               9.164139e-08\n",
            "State_Nagaland             4.117547e-08\n",
            "State_Mizoram              3.786785e-08\n",
            "State_Punjab               2.923618e-08\n",
            "State_Bihar                1.689597e-08\n",
            "State_Uttarakhand          1.467786e-08\n",
            "State_Himachal Pradesh     1.388580e-08\n",
            "Season_Summer              1.383181e-08\n",
            "State_Arunachal Pradesh    7.911451e-09\n",
            "State_Meghalaya            6.531979e-09\n",
            "State_Tripura              3.831164e-09\n",
            "State_Jammu and Kashmir    2.258391e-09\n",
            "State_Sikkim               8.714058e-10\n",
            "dtype: float64\n"
          ]
        },
        {
          "output_type": "display_data",
          "data": {
            "text/plain": [
              "<Figure size 640x480 with 1 Axes>"
            ],
            "image/png": "[encoded data removed]"
          },
          "metadata": {}
        }
      ]
    }
  ]
}